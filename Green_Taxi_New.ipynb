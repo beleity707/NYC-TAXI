{
 "cells": [
  {
   "cell_type": "markdown",
   "metadata": {},
   "source": [
    "<br>\n",
    "<h1><b><center>Green Taxi <font color=\"green\"></center></b></h1><h5><center>Data Wizards Team </center></h5><br>\n",
    "\n",
    "<img align=\"center\" src=\"https://www1.nyc.gov/assets/tlc/images/content/pages/businesses/green-cab-markings.jpg\" style=\"height:100px\">"
   ]
  },
  {
   "cell_type": "code",
   "execution_count": 1,
   "metadata": {},
   "outputs": [],
   "source": [
    "import os\n",
    "import numpy as np\n",
    "import pandas as pd\n",
    "from sklearn.linear_model import LinearRegression\n",
    "from sklearn import metrics\n",
    "import seaborn as sns\n",
    "import matplotlib.pyplot as plt\n",
    "%matplotlib inline\n",
    "\n",
    "# To see all columns in a DataFrame\n",
    "pd.options.display.max_columns = None\n",
    "\n",
    "# To see all column content\n",
    "pd.options.display.width = 0\n",
    "pd.set_option('display.max_rows', 500)\n"
   ]
  },
  {
   "cell_type": "markdown",
   "metadata": {},
   "source": [
    "<img align=\"left\" src=\"https://www.smallbizdaily.com/wp-content/uploads/2019/10/shutterstock_422864347-1.jpg\" style=\"height:200px\"> \n",
    "\n",
    "\n",
    "<b><font color=\"red\">The general idea</font></u></b><br>- Calculate the Trip Duration<br>- Calculate the Trip Fare based on the duration (Pipeline)<br>- Calculate the trip duration from district to district<br>- Customer click on the Source and Destination and he gets an estimate duration for his journy<br>- Visualize the traffic based on hourly bases"
   ]
  },
  {
   "cell_type": "code",
   "execution_count": 2,
   "metadata": {},
   "outputs": [],
   "source": [
    "#### INTERNET EXAMPLE\n",
    "# https://towardsdatascience.com/data-101s-spatial-visualizations-and-analysis-in-python-with-folium-39730da2adf\n",
    "# https://towardsdatascience.com/how-taxis-arrive-at-fares-predicting-new-york-city-yellow-cab-fares-71a8c43b7c50\n",
    "\n",
    "# Define the folder location of our dataset\n",
    "location  = \"E:/Big Data Diploma/Project/Project/New folder/Taxi/Green Taxi/\""
   ]
  },
  {
   "cell_type": "code",
   "execution_count": null,
   "metadata": {},
   "outputs": [],
   "source": [
    "# We will load all the data at the begining to plot it and see what we can do  with it\n",
    "%timeit Green_Taxi = pd.read_csv(location+'2016_Green_Taxi_Trip_Data.csv')\n",
    "\n",
    "#Green_Taxi = pd.read_csv(location+'Green_Taxi.csv')\n",
    "#.drop(columns=['VendorID','Store_and_fwd_flag','RateCodeID','Passenger_count','MTA_tax','Ehail_fee','improvement_surcharge','Payment_type','PULocationID','DOLocationID','Extra','Tip_amount','Tolls_amount','Total_amount'])"
   ]
  },
  {
   "cell_type": "markdown",
   "metadata": {},
   "source": [
    " "
   ]
  },
  {
   "cell_type": "markdown",
   "metadata": {},
   "source": [
    "<img align=\"left\" src=\"https://deconstantin.com.au/wp-content/uploads/2014/02/timetoplan.png\" style=\"height:200px\"> \n",
    "\n",
    "<font color=\"red\"><b>Below is our plan</b></font><br>1. We will start by doing data cleansing & data wranglering including deleting all the null values to ensure our data is clean <br>2. We will start the EDA (Explanatory Data Analysis) to understand our data, we will also use box plot and the describe command to see the outliers and remove them<br>3. Plot the data and do some statistics to learn more about the data<br>5. We will do some feature engineering by dropping unnesessary columns and merge some columns also add new columns when needed, also use Correlation Coofeciency<br>11. Use different machine learning models to do different regression predection"
   ]
  },
  {
   "cell_type": "markdown",
   "metadata": {},
   "source": [
    " "
   ]
  },
  {
   "cell_type": "markdown",
   "metadata": {},
   "source": [
    "<b> Step 1</b><br>\n",
    "<b> Data cleansing & Data wranglering</b>\n",
    "\n",
    "<img align=\"left\" src=\"https://res.cloudinary.com/springboard-images/image/upload/q_auto,f_auto,fl_lossy/wordpress/2019/08/sb-blog-data-cleaning.png\" style=\"height:200px\"> \n"
   ]
  },
  {
   "cell_type": "code",
   "execution_count": 6,
   "metadata": {
    "scrolled": true
   },
   "outputs": [
    {
     "name": "stdout",
     "output_type": "stream",
     "text": [
      "<class 'pandas.core.frame.DataFrame'>\n",
      "RangeIndex: 16385532 entries, 0 to 16385531\n",
      "Data columns (total 23 columns):\n",
      "VendorID                 int64\n",
      "lpep_pickup_datetime     object\n",
      "Lpep_dropoff_datetime    object\n",
      "Store_and_fwd_flag       object\n",
      "RateCodeID               int64\n",
      "Pickup_longitude         float64\n",
      "Pickup_latitude          float64\n",
      "Dropoff_longitude        float64\n",
      "Dropoff_latitude         float64\n",
      "Passenger_count          int64\n",
      "Trip_distance            float64\n",
      "Fare_amount              float64\n",
      "Extra                    float64\n",
      "MTA_tax                  float64\n",
      "Tip_amount               float64\n",
      "Tolls_amount             float64\n",
      "Ehail_fee                float64\n",
      "improvement_surcharge    float64\n",
      "Total_amount             float64\n",
      "Payment_type             int64\n",
      "Trip_type                float64\n",
      "PULocationID             float64\n",
      "DOLocationID             float64\n",
      "dtypes: float64(16), int64(4), object(3)\n",
      "memory usage: 2.8+ GB\n"
     ]
    }
   ],
   "source": [
    "# Check the number of records and columns in the dataset also the total memory usage\n",
    "Green_Taxi.info()\n"
   ]
  },
  {
   "cell_type": "markdown",
   "metadata": {},
   "source": [
    "<font color=\"red\"><u>We have observed the following: <u/></b></font><br> \n",
    "<font color=\"red\">- The total number of records is <b>16,385,532 </b></font><br>\n",
    "<font color=\"red\">- Some data is categorial and will need to be hotencoded it we will use it in our model <br>\n",
    "<font color=\"red\">- The total number of colums is <b>23 column </b><font><br>\n",
    "<font color=\"red\">- The total memory usage is <b>2.8+ GB </b></font><br>\n",
    "<font color=\"red\">- The first 3 columns are the only non numerical columns in our dataset so there might be no much special characters cleaning as the 3 columns are 2 dates and a flag, and the rest is already float or int</b></font>"
   ]
  },
  {
   "cell_type": "code",
   "execution_count": 10,
   "metadata": {
    "scrolled": false
   },
   "outputs": [
    {
     "data": {
      "text/html": [
       "<div>\n",
       "<style scoped>\n",
       "    .dataframe tbody tr th:only-of-type {\n",
       "        vertical-align: middle;\n",
       "    }\n",
       "\n",
       "    .dataframe tbody tr th {\n",
       "        vertical-align: top;\n",
       "    }\n",
       "\n",
       "    .dataframe thead th {\n",
       "        text-align: right;\n",
       "    }\n",
       "</style>\n",
       "<table border=\"1\" class=\"dataframe\">\n",
       "  <thead>\n",
       "    <tr style=\"text-align: right;\">\n",
       "      <th></th>\n",
       "      <th>VendorID</th>\n",
       "      <th>lpep_pickup_datetime</th>\n",
       "      <th>Lpep_dropoff_datetime</th>\n",
       "      <th>Store_and_fwd_flag</th>\n",
       "      <th>RateCodeID</th>\n",
       "      <th>Pickup_longitude</th>\n",
       "      <th>Pickup_latitude</th>\n",
       "      <th>Dropoff_longitude</th>\n",
       "      <th>Dropoff_latitude</th>\n",
       "      <th>Passenger_count</th>\n",
       "      <th>Trip_distance</th>\n",
       "      <th>Fare_amount</th>\n",
       "      <th>Extra</th>\n",
       "      <th>MTA_tax</th>\n",
       "      <th>Tip_amount</th>\n",
       "      <th>Tolls_amount</th>\n",
       "      <th>Ehail_fee</th>\n",
       "      <th>improvement_surcharge</th>\n",
       "      <th>Total_amount</th>\n",
       "      <th>Payment_type</th>\n",
       "      <th>Trip_type</th>\n",
       "      <th>PULocationID</th>\n",
       "      <th>DOLocationID</th>\n",
       "    </tr>\n",
       "  </thead>\n",
       "  <tbody>\n",
       "    <tr>\n",
       "      <th>0</th>\n",
       "      <td>2</td>\n",
       "      <td>01/01/2016 12:29:24 AM</td>\n",
       "      <td>01/01/2016 12:39:36 AM</td>\n",
       "      <td>N</td>\n",
       "      <td>1</td>\n",
       "      <td>-73.928642</td>\n",
       "      <td>40.680611</td>\n",
       "      <td>-73.924278</td>\n",
       "      <td>40.698044</td>\n",
       "      <td>1</td>\n",
       "      <td>1.46</td>\n",
       "      <td>8.0</td>\n",
       "      <td>0.5</td>\n",
       "      <td>0.5</td>\n",
       "      <td>1.86</td>\n",
       "      <td>0.0</td>\n",
       "      <td>NaN</td>\n",
       "      <td>0.3</td>\n",
       "      <td>11.16</td>\n",
       "      <td>1</td>\n",
       "      <td>1.0</td>\n",
       "      <td>NaN</td>\n",
       "      <td>NaN</td>\n",
       "    </tr>\n",
       "    <tr>\n",
       "      <th>1</th>\n",
       "      <td>2</td>\n",
       "      <td>01/01/2016 12:19:39 AM</td>\n",
       "      <td>01/01/2016 12:39:18 AM</td>\n",
       "      <td>N</td>\n",
       "      <td>1</td>\n",
       "      <td>-73.952675</td>\n",
       "      <td>40.723175</td>\n",
       "      <td>-73.923920</td>\n",
       "      <td>40.761379</td>\n",
       "      <td>1</td>\n",
       "      <td>3.56</td>\n",
       "      <td>15.5</td>\n",
       "      <td>0.5</td>\n",
       "      <td>0.5</td>\n",
       "      <td>0.00</td>\n",
       "      <td>0.0</td>\n",
       "      <td>NaN</td>\n",
       "      <td>0.3</td>\n",
       "      <td>16.80</td>\n",
       "      <td>2</td>\n",
       "      <td>1.0</td>\n",
       "      <td>NaN</td>\n",
       "      <td>NaN</td>\n",
       "    </tr>\n",
       "    <tr>\n",
       "      <th>2</th>\n",
       "      <td>2</td>\n",
       "      <td>01/01/2016 12:19:33 AM</td>\n",
       "      <td>01/01/2016 12:39:48 AM</td>\n",
       "      <td>N</td>\n",
       "      <td>1</td>\n",
       "      <td>-73.971611</td>\n",
       "      <td>40.676105</td>\n",
       "      <td>-74.013161</td>\n",
       "      <td>40.646072</td>\n",
       "      <td>1</td>\n",
       "      <td>3.79</td>\n",
       "      <td>16.5</td>\n",
       "      <td>0.5</td>\n",
       "      <td>0.5</td>\n",
       "      <td>4.45</td>\n",
       "      <td>0.0</td>\n",
       "      <td>NaN</td>\n",
       "      <td>0.3</td>\n",
       "      <td>22.25</td>\n",
       "      <td>1</td>\n",
       "      <td>1.0</td>\n",
       "      <td>NaN</td>\n",
       "      <td>NaN</td>\n",
       "    </tr>\n",
       "    <tr>\n",
       "      <th>3</th>\n",
       "      <td>2</td>\n",
       "      <td>01/01/2016 12:22:12 AM</td>\n",
       "      <td>01/01/2016 12:38:32 AM</td>\n",
       "      <td>N</td>\n",
       "      <td>1</td>\n",
       "      <td>-73.989502</td>\n",
       "      <td>40.669579</td>\n",
       "      <td>-74.000648</td>\n",
       "      <td>40.689034</td>\n",
       "      <td>1</td>\n",
       "      <td>3.01</td>\n",
       "      <td>13.5</td>\n",
       "      <td>0.5</td>\n",
       "      <td>0.5</td>\n",
       "      <td>0.00</td>\n",
       "      <td>0.0</td>\n",
       "      <td>NaN</td>\n",
       "      <td>0.3</td>\n",
       "      <td>14.80</td>\n",
       "      <td>2</td>\n",
       "      <td>1.0</td>\n",
       "      <td>NaN</td>\n",
       "      <td>NaN</td>\n",
       "    </tr>\n",
       "    <tr>\n",
       "      <th>4</th>\n",
       "      <td>2</td>\n",
       "      <td>01/01/2016 12:24:01 AM</td>\n",
       "      <td>01/01/2016 12:39:22 AM</td>\n",
       "      <td>N</td>\n",
       "      <td>1</td>\n",
       "      <td>-73.964729</td>\n",
       "      <td>40.682854</td>\n",
       "      <td>-73.940720</td>\n",
       "      <td>40.663013</td>\n",
       "      <td>1</td>\n",
       "      <td>2.55</td>\n",
       "      <td>12.0</td>\n",
       "      <td>0.5</td>\n",
       "      <td>0.5</td>\n",
       "      <td>0.00</td>\n",
       "      <td>0.0</td>\n",
       "      <td>NaN</td>\n",
       "      <td>0.3</td>\n",
       "      <td>13.30</td>\n",
       "      <td>2</td>\n",
       "      <td>1.0</td>\n",
       "      <td>NaN</td>\n",
       "      <td>NaN</td>\n",
       "    </tr>\n",
       "  </tbody>\n",
       "</table>\n",
       "</div>"
      ],
      "text/plain": [
       "   VendorID    lpep_pickup_datetime   Lpep_dropoff_datetime  \\\n",
       "0         2  01/01/2016 12:29:24 AM  01/01/2016 12:39:36 AM   \n",
       "1         2  01/01/2016 12:19:39 AM  01/01/2016 12:39:18 AM   \n",
       "2         2  01/01/2016 12:19:33 AM  01/01/2016 12:39:48 AM   \n",
       "3         2  01/01/2016 12:22:12 AM  01/01/2016 12:38:32 AM   \n",
       "4         2  01/01/2016 12:24:01 AM  01/01/2016 12:39:22 AM   \n",
       "\n",
       "  Store_and_fwd_flag  RateCodeID  Pickup_longitude  Pickup_latitude  \\\n",
       "0                  N           1        -73.928642        40.680611   \n",
       "1                  N           1        -73.952675        40.723175   \n",
       "2                  N           1        -73.971611        40.676105   \n",
       "3                  N           1        -73.989502        40.669579   \n",
       "4                  N           1        -73.964729        40.682854   \n",
       "\n",
       "   Dropoff_longitude  Dropoff_latitude  Passenger_count  Trip_distance  \\\n",
       "0         -73.924278         40.698044                1           1.46   \n",
       "1         -73.923920         40.761379                1           3.56   \n",
       "2         -74.013161         40.646072                1           3.79   \n",
       "3         -74.000648         40.689034                1           3.01   \n",
       "4         -73.940720         40.663013                1           2.55   \n",
       "\n",
       "   Fare_amount  Extra  MTA_tax  Tip_amount  Tolls_amount  Ehail_fee  \\\n",
       "0          8.0    0.5      0.5        1.86           0.0        NaN   \n",
       "1         15.5    0.5      0.5        0.00           0.0        NaN   \n",
       "2         16.5    0.5      0.5        4.45           0.0        NaN   \n",
       "3         13.5    0.5      0.5        0.00           0.0        NaN   \n",
       "4         12.0    0.5      0.5        0.00           0.0        NaN   \n",
       "\n",
       "   improvement_surcharge  Total_amount  Payment_type  Trip_type   \\\n",
       "0                    0.3         11.16             1         1.0   \n",
       "1                    0.3         16.80             2         1.0   \n",
       "2                    0.3         22.25             1         1.0   \n",
       "3                    0.3         14.80             2         1.0   \n",
       "4                    0.3         13.30             2         1.0   \n",
       "\n",
       "   PULocationID  DOLocationID  \n",
       "0           NaN           NaN  \n",
       "1           NaN           NaN  \n",
       "2           NaN           NaN  \n",
       "3           NaN           NaN  \n",
       "4           NaN           NaN  "
      ]
     },
     "execution_count": 10,
     "metadata": {},
     "output_type": "execute_result"
    }
   ],
   "source": [
    "# Check part of the data to know what columns we might not need at all\n",
    "Green_Taxi[:5]"
   ]
  },
  {
   "cell_type": "markdown",
   "metadata": {},
   "source": [
    "<font color=\"red\">We have noticed that the columns \" Ehail_fee , PULocationID , DOLocationID \" are nulls, as the 3 columns are not needed in our model we will drop them all"
   ]
  },
  {
   "cell_type": "code",
   "execution_count": 4,
   "metadata": {},
   "outputs": [],
   "source": [
    "Green_Taxi.drop(columns =['Ehail_fee' , 'PULocationID' , 'DOLocationID'], inplace = True) \n"
   ]
  },
  {
   "cell_type": "markdown",
   "metadata": {},
   "source": [
    "<font color=\"red\">Based on experience to have accurate measurments with the .describe() command and the EDAs, the target columns should not have null value,<br> so our plan now is as follows: <br>- The columns that can not have 0 as a value ex. Pickup_longitude we will be removed <br> - The columns that can have 0 or average as a value we will be kept and their values will be replaced</font>"
   ]
  },
  {
   "cell_type": "code",
   "execution_count": 5,
   "metadata": {},
   "outputs": [],
   "source": [
    "def checkNulls(col):\n",
    "    #print(\"There are {} null values in column \"+col.format(Green_Taxi[col][Green_Taxi[col].isnull()].count()))\n",
    "    print (col.ljust(25) +\": {} \".format(Green_Taxi[col][Green_Taxi[col].isnull()].count()))"
   ]
  },
  {
   "cell_type": "code",
   "execution_count": 6,
   "metadata": {},
   "outputs": [
    {
     "name": "stdout",
     "output_type": "stream",
     "text": [
      "lpep_pickup_datetime     : 0 \n"
     ]
    }
   ],
   "source": [
    "# Test\n",
    "checkNulls('lpep_pickup_datetime')\n",
    " "
   ]
  },
  {
   "cell_type": "code",
   "execution_count": 7,
   "metadata": {
    "scrolled": false
   },
   "outputs": [
    {
     "name": "stdout",
     "output_type": "stream",
     "text": [
      "VendorID                 : 0 \n",
      "lpep_pickup_datetime     : 0 \n",
      "Lpep_dropoff_datetime    : 0 \n",
      "Store_and_fwd_flag       : 0 \n",
      "RateCodeID               : 0 \n",
      "Pickup_longitude         : 0 \n",
      "Pickup_latitude          : 0 \n",
      "Dropoff_longitude        : 0 \n",
      "Dropoff_latitude         : 0 \n",
      "Passenger_count          : 0 \n",
      "Trip_distance            : 0 \n",
      "Fare_amount              : 0 \n",
      "Extra                    : 0 \n",
      "MTA_tax                  : 0 \n",
      "Tip_amount               : 0 \n",
      "Tolls_amount             : 0 \n",
      "improvement_surcharge    : 0 \n",
      "Total_amount             : 0 \n",
      "Payment_type             : 0 \n",
      "Trip_type                : 0 \n"
     ]
    }
   ],
   "source": [
    "# Check nulls in every column\n",
    "for col in Green_Taxi.columns:\n",
    "    checkNulls(col)"
   ]
  },
  {
   "cell_type": "code",
   "execution_count": 6,
   "metadata": {},
   "outputs": [],
   "source": [
    "Green_Taxi= Green_Taxi.dropna()"
   ]
  },
  {
   "cell_type": "code",
   "execution_count": 8,
   "metadata": {},
   "outputs": [
    {
     "name": "stdout",
     "output_type": "stream",
     "text": [
      "<class 'pandas.core.frame.DataFrame'>\n",
      "Int64Index: 9017586 entries, 0 to 9018661\n",
      "Data columns (total 20 columns):\n",
      "VendorID                 int64\n",
      "lpep_pickup_datetime     object\n",
      "Lpep_dropoff_datetime    object\n",
      "Store_and_fwd_flag       object\n",
      "RateCodeID               int64\n",
      "Pickup_longitude         float64\n",
      "Pickup_latitude          float64\n",
      "Dropoff_longitude        float64\n",
      "Dropoff_latitude         float64\n",
      "Passenger_count          int64\n",
      "Trip_distance            float64\n",
      "Fare_amount              float64\n",
      "Extra                    float64\n",
      "MTA_tax                  float64\n",
      "Tip_amount               float64\n",
      "Tolls_amount             float64\n",
      "improvement_surcharge    float64\n",
      "Total_amount             float64\n",
      "Payment_type             int64\n",
      "Trip_type                float64\n",
      "dtypes: float64(13), int64(4), object(3)\n",
      "memory usage: 1.4+ GB\n"
     ]
    }
   ],
   "source": [
    "Green_Taxi.info()"
   ]
  },
  {
   "cell_type": "markdown",
   "metadata": {},
   "source": [
    "<font color=\"red\"><u>We have observed the following: <u/></b></font><br> \n",
    "<font color=\"red\">- The total number of records decreased to <b>9,017,586 </b></font><br>\n",
    "<font color=\"red\">- The total number of colums is now <b>20 column </b><font><br>\n",
    "<font color=\"red\">- The total memory usage decreased to <b>1.4+ GB </b></font><br>\n"
   ]
  },
  {
   "cell_type": "markdown",
   "metadata": {},
   "source": [
    "<font color=\"red\"> We will do the same thing now but for the Zero values <br>"
   ]
  },
  {
   "cell_type": "code",
   "execution_count": 9,
   "metadata": {},
   "outputs": [],
   "source": [
    "def checkZeros(col):\n",
    "    print (col.ljust(25) +\": {} \".format(Green_Taxi[col][Green_Taxi[col]==0].count()))\n"
   ]
  },
  {
   "cell_type": "code",
   "execution_count": 9,
   "metadata": {},
   "outputs": [
    {
     "name": "stdout",
     "output_type": "stream",
     "text": [
      "There are 218025 trip records with 0 km distance\n"
     ]
    }
   ],
   "source": [
    "# Test\n",
    "print(\"There are {} trip records with 0 km distance\".format(Green_Taxi.Trip_distance[Green_Taxi.Trip_distance == 0 ].count()))"
   ]
  },
  {
   "cell_type": "code",
   "execution_count": 11,
   "metadata": {},
   "outputs": [
    {
     "name": "stdout",
     "output_type": "stream",
     "text": [
      "VendorID                 : 0 \n",
      "lpep_pickup_datetime     : 0 \n",
      "Lpep_dropoff_datetime    : 0 \n",
      "Store_and_fwd_flag       : 0 \n",
      "RateCodeID               : 0 \n",
      "Pickup_longitude         : 14720 \n",
      "Pickup_latitude          : 14719 \n",
      "Dropoff_longitude        : 12535 \n",
      "Dropoff_latitude         : 12535 \n",
      "Passenger_count          : 2753 \n",
      "Trip_distance            : 118406 \n",
      "Fare_amount              : 24870 \n",
      "Extra                    : 4203506 \n",
      "MTA_tax                  : 209538 \n",
      "Tip_amount               : 5173086 \n",
      "Tolls_amount             : 8847500 \n",
      "improvement_surcharge    : 207577 \n",
      "Total_amount             : 23617 \n",
      "Payment_type             : 0 \n",
      "Trip_type                : 0 \n"
     ]
    }
   ],
   "source": [
    "# Check nulls in every column\n",
    "for col in Green_Taxi.columns:\n",
    "    checkZeros(col)"
   ]
  },
  {
   "cell_type": "markdown",
   "metadata": {},
   "source": [
    "<font color=\"red\"> The resulting values are interesting as there were many important columns has zero values that should be removed ex. Pickup_longitude and Dropoff_longitude. <br> We will remove the rows with zero values for our target columns."
   ]
  },
  {
   "cell_type": "code",
   "execution_count": 10,
   "metadata": {},
   "outputs": [
    {
     "data": {
      "text/plain": [
       "(9017586, 20)"
      ]
     },
     "execution_count": 10,
     "metadata": {},
     "output_type": "execute_result"
    }
   ],
   "source": [
    "Green_Taxi.shape"
   ]
  },
  {
   "cell_type": "code",
   "execution_count": 12,
   "metadata": {},
   "outputs": [],
   "source": [
    "# I found the below code the simplist way to delete the Zero rows\n",
    "Green_Taxi = Green_Taxi[Green_Taxi.Pickup_longitude != 0]\n",
    "Green_Taxi = Green_Taxi[Green_Taxi.Pickup_latitude != 0]\n",
    "Green_Taxi = Green_Taxi[Green_Taxi.Dropoff_longitude != 0]\n",
    "Green_Taxi = Green_Taxi[Green_Taxi.Dropoff_latitude != 0]\n",
    "Green_Taxi = Green_Taxi[Green_Taxi.Passenger_count != 0]\n",
    "Green_Taxi = Green_Taxi[Green_Taxi.Trip_distance != 0]\n",
    "Green_Taxi = Green_Taxi[Green_Taxi.Fare_amount != 0]\n",
    "Green_Taxi = Green_Taxi[Green_Taxi.Total_amount != 0]"
   ]
  },
  {
   "cell_type": "code",
   "execution_count": 14,
   "metadata": {
    "scrolled": true
   },
   "outputs": [
    {
     "data": {
      "text/plain": [
       "(8867131, 20)"
      ]
     },
     "execution_count": 14,
     "metadata": {},
     "output_type": "execute_result"
    }
   ],
   "source": [
    "# Notice the number of records decreased\n",
    "Green_Taxi.shape"
   ]
  },
  {
   "cell_type": "markdown",
   "metadata": {},
   "source": [
    "<font color=\"red\">\n",
    "- We will also remove values where lpep_pickup_datetime == Lpep_dropoff_datetime <b>OR</b> lpep_pickup_datetime < Lpep_dropoff_datetime <br>\n",
    "- <b>Based on experience it is better to change their format from object to date first to make the operation much faster</b><br>\n",
    "- We will also create a new column Trip_Duration which will be used later in our desired model<br>"
   ]
  },
  {
   "cell_type": "code",
   "execution_count": 15,
   "metadata": {
    "scrolled": true
   },
   "outputs": [
    {
     "data": {
      "text/html": [
       "<div>\n",
       "<style scoped>\n",
       "    .dataframe tbody tr th:only-of-type {\n",
       "        vertical-align: middle;\n",
       "    }\n",
       "\n",
       "    .dataframe tbody tr th {\n",
       "        vertical-align: top;\n",
       "    }\n",
       "\n",
       "    .dataframe thead th {\n",
       "        text-align: right;\n",
       "    }\n",
       "</style>\n",
       "<table border=\"1\" class=\"dataframe\">\n",
       "  <thead>\n",
       "    <tr style=\"text-align: right;\">\n",
       "      <th></th>\n",
       "      <th>VendorID</th>\n",
       "      <th>lpep_pickup_datetime</th>\n",
       "      <th>Lpep_dropoff_datetime</th>\n",
       "      <th>Store_and_fwd_flag</th>\n",
       "      <th>RateCodeID</th>\n",
       "      <th>Pickup_longitude</th>\n",
       "      <th>Pickup_latitude</th>\n",
       "      <th>Dropoff_longitude</th>\n",
       "      <th>Dropoff_latitude</th>\n",
       "      <th>Passenger_count</th>\n",
       "      <th>Trip_distance</th>\n",
       "      <th>Fare_amount</th>\n",
       "      <th>Extra</th>\n",
       "      <th>MTA_tax</th>\n",
       "      <th>Tip_amount</th>\n",
       "      <th>Tolls_amount</th>\n",
       "      <th>improvement_surcharge</th>\n",
       "      <th>Total_amount</th>\n",
       "      <th>Payment_type</th>\n",
       "      <th>Trip_type</th>\n",
       "    </tr>\n",
       "  </thead>\n",
       "  <tbody>\n",
       "    <tr>\n",
       "      <th>0</th>\n",
       "      <td>2</td>\n",
       "      <td>01/01/2016 12:29:24 AM</td>\n",
       "      <td>01/01/2016 12:39:36 AM</td>\n",
       "      <td>N</td>\n",
       "      <td>1</td>\n",
       "      <td>-73.928642</td>\n",
       "      <td>40.680611</td>\n",
       "      <td>-73.924278</td>\n",
       "      <td>40.698044</td>\n",
       "      <td>1</td>\n",
       "      <td>1.46</td>\n",
       "      <td>8.0</td>\n",
       "      <td>0.5</td>\n",
       "      <td>0.5</td>\n",
       "      <td>1.86</td>\n",
       "      <td>0.0</td>\n",
       "      <td>0.3</td>\n",
       "      <td>11.16</td>\n",
       "      <td>1</td>\n",
       "      <td>1.0</td>\n",
       "    </tr>\n",
       "    <tr>\n",
       "      <th>1</th>\n",
       "      <td>2</td>\n",
       "      <td>01/01/2016 12:19:39 AM</td>\n",
       "      <td>01/01/2016 12:39:18 AM</td>\n",
       "      <td>N</td>\n",
       "      <td>1</td>\n",
       "      <td>-73.952675</td>\n",
       "      <td>40.723175</td>\n",
       "      <td>-73.923920</td>\n",
       "      <td>40.761379</td>\n",
       "      <td>1</td>\n",
       "      <td>3.56</td>\n",
       "      <td>15.5</td>\n",
       "      <td>0.5</td>\n",
       "      <td>0.5</td>\n",
       "      <td>0.00</td>\n",
       "      <td>0.0</td>\n",
       "      <td>0.3</td>\n",
       "      <td>16.80</td>\n",
       "      <td>2</td>\n",
       "      <td>1.0</td>\n",
       "    </tr>\n",
       "  </tbody>\n",
       "</table>\n",
       "</div>"
      ],
      "text/plain": [
       "   VendorID    lpep_pickup_datetime   Lpep_dropoff_datetime  \\\n",
       "0         2  01/01/2016 12:29:24 AM  01/01/2016 12:39:36 AM   \n",
       "1         2  01/01/2016 12:19:39 AM  01/01/2016 12:39:18 AM   \n",
       "\n",
       "  Store_and_fwd_flag  RateCodeID  Pickup_longitude  Pickup_latitude  \\\n",
       "0                  N           1        -73.928642        40.680611   \n",
       "1                  N           1        -73.952675        40.723175   \n",
       "\n",
       "   Dropoff_longitude  Dropoff_latitude  Passenger_count  Trip_distance  \\\n",
       "0         -73.924278         40.698044                1           1.46   \n",
       "1         -73.923920         40.761379                1           3.56   \n",
       "\n",
       "   Fare_amount  Extra  MTA_tax  Tip_amount  Tolls_amount  \\\n",
       "0          8.0    0.5      0.5        1.86           0.0   \n",
       "1         15.5    0.5      0.5        0.00           0.0   \n",
       "\n",
       "   improvement_surcharge  Total_amount  Payment_type  Trip_type   \n",
       "0                    0.3         11.16             1         1.0  \n",
       "1                    0.3         16.80             2         1.0  "
      ]
     },
     "execution_count": 15,
     "metadata": {},
     "output_type": "execute_result"
    }
   ],
   "source": [
    "Green_Taxi[:2]"
   ]
  },
  {
   "cell_type": "markdown",
   "metadata": {},
   "source": [
    "<font color=\"red\"> Based on our analysis the format used for lpep_pickup_datetime is <b>01/01/2016 12:29:24 AM </b> we will use a similat format in our code\n",
    "        "
   ]
  },
  {
   "cell_type": "code",
   "execution_count": 20,
   "metadata": {
    "scrolled": false
   },
   "outputs": [
    {
     "name": "stdout",
     "output_type": "stream",
     "text": [
      "<class 'datetime.datetime'>\n",
      "2016-06-22 23:07:36\n",
      "2016-01-01 00:29:24\n"
     ]
    }
   ],
   "source": [
    "# Good String Character to Date Conversion example for testing\n",
    "\n",
    "from datetime import datetime\n",
    "datetime_str = '2016-06-22 23:07:36'\n",
    "datetime_object = datetime.strptime(datetime_str, '%Y-%m-%d %H:%M:%S')\n",
    "print(type(datetime_object))\n",
    "print(datetime_object)  # printed in default format\n",
    "\n",
    "datetime_str = '01/01/2016 12:29:24 AM'\n",
    "datetime_object = datetime.strptime(datetime_str, '%m/%d/%Y %I:%M:%S %p')\n",
    "print(datetime_object)  # printed in default format\n"
   ]
  },
  {
   "cell_type": "markdown",
   "metadata": {},
   "source": [
    "<font color=\"red\"> Now apply the same example on the desired columns"
   ]
  },
  {
   "cell_type": "code",
   "execution_count": 22,
   "metadata": {
    "scrolled": true
   },
   "outputs": [
    {
     "data": {
      "text/html": [
       "<div>\n",
       "<style scoped>\n",
       "    .dataframe tbody tr th:only-of-type {\n",
       "        vertical-align: middle;\n",
       "    }\n",
       "\n",
       "    .dataframe tbody tr th {\n",
       "        vertical-align: top;\n",
       "    }\n",
       "\n",
       "    .dataframe thead th {\n",
       "        text-align: right;\n",
       "    }\n",
       "</style>\n",
       "<table border=\"1\" class=\"dataframe\">\n",
       "  <thead>\n",
       "    <tr style=\"text-align: right;\">\n",
       "      <th></th>\n",
       "      <th>lpep_pickup_datetime</th>\n",
       "      <th>Lpep_dropoff_datetime</th>\n",
       "    </tr>\n",
       "  </thead>\n",
       "  <tbody>\n",
       "    <tr>\n",
       "      <th>0</th>\n",
       "      <td>01/01/2016 12:29:24 AM</td>\n",
       "      <td>01/01/2016 12:39:36 AM</td>\n",
       "    </tr>\n",
       "    <tr>\n",
       "      <th>1</th>\n",
       "      <td>01/01/2016 12:19:39 AM</td>\n",
       "      <td>01/01/2016 12:39:18 AM</td>\n",
       "    </tr>\n",
       "  </tbody>\n",
       "</table>\n",
       "</div>"
      ],
      "text/plain": [
       "     lpep_pickup_datetime   Lpep_dropoff_datetime\n",
       "0  01/01/2016 12:29:24 AM  01/01/2016 12:39:36 AM\n",
       "1  01/01/2016 12:19:39 AM  01/01/2016 12:39:18 AM"
      ]
     },
     "execution_count": 22,
     "metadata": {},
     "output_type": "execute_result"
    }
   ],
   "source": [
    "Green_Taxi.iloc[:, 1:3][:2]"
   ]
  },
  {
   "cell_type": "code",
   "execution_count": 24,
   "metadata": {
    "scrolled": true
   },
   "outputs": [
    {
     "name": "stdout",
     "output_type": "stream",
     "text": [
      "33.8 s ± 1.12 s per loop (mean ± std. dev. of 7 runs, 1 loop each)\n"
     ]
    }
   ],
   "source": [
    "# VIP: The step below is very important to change from String to Datetime\n",
    "# Note when converting String to Datetime it is very important to specify the exact format as \n",
    "# it makes is much faster to process the request. Also, anyother option makes the process hang\n",
    "\n",
    "# The line below just for testing\n",
    "# %timeit pd.to_datetime(Green_Taxi.lpep_pickup_datetime, format='%m/%d/%Y %I:%M:%S %p')\n",
    "\n",
    "# The command iloc to specify the columns that we would like to work on\n",
    "%timeit Green_Taxi.iloc[:, 1:3] = Green_Taxi.iloc[:, 1:3].apply(pd.to_datetime, format='%m/%d/%Y %I:%M:%S %p', errors='coerce')\n"
   ]
  },
  {
   "cell_type": "markdown",
   "metadata": {},
   "source": [
    "<font color=\"red\"> Now Create the Trip_Duration column"
   ]
  },
  {
   "cell_type": "code",
   "execution_count": 25,
   "metadata": {},
   "outputs": [],
   "source": [
    "Green_Taxi['Trip_Duration'] = (Green_Taxi['Lpep_dropoff_datetime'] - Green_Taxi['lpep_pickup_datetime'])\n"
   ]
  },
  {
   "cell_type": "markdown",
   "metadata": {},
   "source": [
    "<font color=\"red\">\n",
    "- Time to remove values where lpep_pickup_datetime == Lpep_dropoff_datetime <b>OR</b> lpep_pickup_datetime < Lpep_dropoff_datetime "
   ]
  },
  {
   "cell_type": "code",
   "execution_count": 10,
   "metadata": {
    "scrolled": true
   },
   "outputs": [],
   "source": [
    "Green_Taxi = Green_Taxi[Green_Taxi.lpep_pickup_datetime != Green_Taxi.Lpep_dropoff_datetime]\n",
    "Green_Taxi = Green_Taxi[Green_Taxi.lpep_pickup_datetime < Green_Taxi.Lpep_dropoff_datetime]"
   ]
  },
  {
   "cell_type": "markdown",
   "metadata": {},
   "source": [
    "<font color=\"red\"> For safety we will save the file for future use. Also, note we are mentioning the dateFormat as the Date Columns will not be saved by default. La yolda3 el Mo2men men Go7rn toltomyt marah!"
   ]
  },
  {
   "cell_type": "code",
   "execution_count": 11,
   "metadata": {},
   "outputs": [],
   "source": [
    "Green_Taxi.to_csv(r'E:/Big Data Diploma/Project/Project/New folder/Taxi/Green Taxi/Green_Taxi_B2.csv', date_format='%m/%d/%Y %I:%M:%S %p',index=False)\n"
   ]
  },
  {
   "cell_type": "markdown",
   "metadata": {},
   "source": [
    " "
   ]
  },
  {
   "cell_type": "markdown",
   "metadata": {},
   "source": [
    "<b>Continue Working from here"
   ]
  },
  {
   "cell_type": "code",
   "execution_count": 25,
   "metadata": {},
   "outputs": [],
   "source": [
    "Green_Taxi = pd.read_csv(location+'Green_Taxi_B2.csv')"
   ]
  },
  {
   "cell_type": "markdown",
   "metadata": {},
   "source": [
    "We've further examined our dataset and here is our understanding for the current columns\n",
    "\n",
    "<b>VendorID</b><br>\n",
    "A code indicating the LPEP provider that provided the record.\n",
    "1= Creative Mobile Technologies, LLC; 2= VeriFone Inc.\n",
    "\n",
    "\n",
    "<b>RateCodeID</b><br>\n",
    "The final rate code in effect at the end of the trip.<br>\n",
    "1= Standard rate<br>\n",
    "2=JFK<br>\n",
    "3=Newark<br>\n",
    "4=Nassau or Westchester<br>\n",
    "5=Negotiated fare<br>\n",
    "6=Group ride\n",
    "\n",
    "<b>store_and_fwd_flag</b><br>\n",
    "This flag indicates whether the trip record was held in vehicle memory before sending <br>\n",
    "to the vendor because the vehicle did not have a connection to the server - Y=store and forward; <br>\n",
    "N=not a store and forward trip\n",
    "\n",
    "<b>Payment_type</b><br>\n",
    "A numeric code signifying how the passenger paid for the trip.<br>\n",
    "1= Credit card<br>\n",
    "2= Cash<br>\n",
    "3= No charge<br>\n",
    "4= Dispute<br>\n",
    "5= Unknown<br>\n",
    "6= Voided trip\n",
    "\n",
    "<b>Fare_amount</b><br>\n",
    "The time-and-distance fare calculated by the meter.<br>\n",
    "\n",
    "<b>Extra</b><br>\n",
    "Miscellaneous extras and surcharges. Currently, this only includes the 0.50 and 1 rush hour and overnight charges.<br>\n",
    "\n",
    "<b>MTA_tax</b><br>\n",
    "0.50 MTA tax that is automatically triggered based on the metered rate in use.\n",
    "\n",
    "<b>Improvement_surcharge</b><br>\n",
    "0.30 improvement surcharge assessed on hailed trips at the flag drop. The improvement surcharge began being levied in 2015.<br>\n",
    "\n",
    "<b>Tip_amount</b><br>\n",
    "Tip amount – This field is automatically populated for credit card tips. Cash tips are not included.<br>\n",
    "\n",
    "<b>Tolls_amount</b><br>\n",
    "Total amount of all tolls paid in trip.<br>\n",
    "\n",
    "<b>Total_amount</b><br>\n",
    "The total amount charged to passengers. Does not include cash tips.<br>\n",
    "\n",
    "<b>Trip_type</b><br>\n",
    "A code indicating whether the trip was a street-hail or a dispatch<br>\n",
    "that is automatically assigned based on the metered rate in use but<br>\n",
    "can be altered by the driver.<br>\n",
    "1= Street-hail<br>\n",
    "2= Dispatch<br>\n",
    "\n",
    "<font color=\"red\"> <b>Conclusion: </b></font><br>\n",
    "A- Subtract the Tip_amount from the Total_amount<br>\n",
    "B- The follwing rows should be deleted from the dataset\n",
    "(RateCodeID in (2,3,4,5,6),store_and_fwd_flag = Y, Payment_type in (3,4,5,6),Trip_type = 2,Tolls_amount)<br>\n",
    "C- The following columns should be dropped (VendorID, RateCodeID,store_and_fwd_flag,Fare_amount,Extra,MTA_tax,\n",
    "Improvement_surcharge,Tip_amount,Tolls_amount,Trip_type)<br>"
   ]
  },
  {
   "cell_type": "code",
   "execution_count": 20,
   "metadata": {},
   "outputs": [],
   "source": [
    "#Green_Taxi[Green_Taxi['Trip_type '] == 2].count()"
   ]
  },
  {
   "cell_type": "code",
   "execution_count": 21,
   "metadata": {
    "scrolled": false
   },
   "outputs": [],
   "source": [
    "#Green_Taxi[Green_Taxi['MTA_tax']>0]"
   ]
  },
  {
   "cell_type": "code",
   "execution_count": 29,
   "metadata": {},
   "outputs": [],
   "source": [
    "#Green_Taxi[Green_Taxi['RateCodeID'] == 6]\n"
   ]
  },
  {
   "cell_type": "code",
   "execution_count": 4,
   "metadata": {
    "scrolled": true
   },
   "outputs": [
    {
     "data": {
      "text/plain": [
       "(8721483, 23)"
      ]
     },
     "execution_count": 4,
     "metadata": {},
     "output_type": "execute_result"
    }
   ],
   "source": [
    "Green_Taxi.shape"
   ]
  },
  {
   "cell_type": "code",
   "execution_count": 38,
   "metadata": {
    "scrolled": false
   },
   "outputs": [],
   "source": [
    "#Green_Taxi[Green_Taxi['Payment_type'] == 1][:4]"
   ]
  },
  {
   "cell_type": "markdown",
   "metadata": {},
   "source": [
    "<b>Start working on the plan</b>"
   ]
  },
  {
   "cell_type": "markdown",
   "metadata": {},
   "source": [
    "<b> A- Subtract the Tip_amount from the Total_amount<br>"
   ]
  },
  {
   "cell_type": "code",
   "execution_count": 26,
   "metadata": {},
   "outputs": [],
   "source": [
    "Green_Taxi['Final_Fare_amount'] = Green_Taxi['Total_amount'] - Green_Taxi['Tip_amount'].astype(float)"
   ]
  },
  {
   "cell_type": "markdown",
   "metadata": {},
   "source": [
    "<b> B- The following rows should be deleted from the dataset\n",
    "(RateCodeID in (2,3,4,5,6),store_and_fwd_flag = Y, Payment_type in (3,4,5,6),Trip_type = 2,Tolls_amount)<br>"
   ]
  },
  {
   "cell_type": "code",
   "execution_count": 28,
   "metadata": {},
   "outputs": [],
   "source": [
    "Green_Taxi = Green_Taxi[Green_Taxi['RateCodeID'] == 1]\n",
    "Green_Taxi = Green_Taxi[Green_Taxi['Store_and_fwd_flag'] == 'N']\n",
    "Green_Taxi = Green_Taxi[Green_Taxi.Payment_type.isin([1,2])]\n",
    "Green_Taxi = Green_Taxi[Green_Taxi['Trip_type '] == 1]\n",
    "Green_Taxi = Green_Taxi[Green_Taxi['Tolls_amount'] == 0]\n"
   ]
  },
  {
   "cell_type": "code",
   "execution_count": 32,
   "metadata": {
    "scrolled": true
   },
   "outputs": [
    {
     "data": {
      "text/html": [
       "<div>\n",
       "<style scoped>\n",
       "    .dataframe tbody tr th:only-of-type {\n",
       "        vertical-align: middle;\n",
       "    }\n",
       "\n",
       "    .dataframe tbody tr th {\n",
       "        vertical-align: top;\n",
       "    }\n",
       "\n",
       "    .dataframe thead th {\n",
       "        text-align: right;\n",
       "    }\n",
       "</style>\n",
       "<table border=\"1\" class=\"dataframe\">\n",
       "  <thead>\n",
       "    <tr style=\"text-align: right;\">\n",
       "      <th></th>\n",
       "      <th>lpep_pickup_datetime</th>\n",
       "      <th>Lpep_dropoff_datetime</th>\n",
       "      <th>Pickup_longitude</th>\n",
       "      <th>Pickup_latitude</th>\n",
       "      <th>Dropoff_longitude</th>\n",
       "      <th>Dropoff_latitude</th>\n",
       "      <th>Passenger_count</th>\n",
       "      <th>Trip_distance</th>\n",
       "      <th>Payment_type</th>\n",
       "      <th>Final_Fare_amount</th>\n",
       "    </tr>\n",
       "  </thead>\n",
       "  <tbody>\n",
       "    <tr>\n",
       "      <th>0</th>\n",
       "      <td>01/01/2016 12:29:24 AM</td>\n",
       "      <td>01/01/2016 12:39:36 AM</td>\n",
       "      <td>-73.928642</td>\n",
       "      <td>40.680611</td>\n",
       "      <td>-73.924278</td>\n",
       "      <td>40.698044</td>\n",
       "      <td>1</td>\n",
       "      <td>1.46</td>\n",
       "      <td>1</td>\n",
       "      <td>9.3</td>\n",
       "    </tr>\n",
       "    <tr>\n",
       "      <th>1</th>\n",
       "      <td>01/01/2016 12:19:39 AM</td>\n",
       "      <td>01/01/2016 12:39:18 AM</td>\n",
       "      <td>-73.952675</td>\n",
       "      <td>40.723175</td>\n",
       "      <td>-73.923920</td>\n",
       "      <td>40.761379</td>\n",
       "      <td>1</td>\n",
       "      <td>3.56</td>\n",
       "      <td>2</td>\n",
       "      <td>16.8</td>\n",
       "    </tr>\n",
       "  </tbody>\n",
       "</table>\n",
       "</div>"
      ],
      "text/plain": [
       "     lpep_pickup_datetime   Lpep_dropoff_datetime  Pickup_longitude  \\\n",
       "0  01/01/2016 12:29:24 AM  01/01/2016 12:39:36 AM        -73.928642   \n",
       "1  01/01/2016 12:19:39 AM  01/01/2016 12:39:18 AM        -73.952675   \n",
       "\n",
       "   Pickup_latitude  Dropoff_longitude  Dropoff_latitude  Passenger_count  \\\n",
       "0        40.680611         -73.924278         40.698044                1   \n",
       "1        40.723175         -73.923920         40.761379                1   \n",
       "\n",
       "   Trip_distance  Payment_type  Final_Fare_amount  \n",
       "0           1.46             1                9.3  \n",
       "1           3.56             2               16.8  "
      ]
     },
     "execution_count": 32,
     "metadata": {},
     "output_type": "execute_result"
    }
   ],
   "source": [
    "Green_Taxi[:2]"
   ]
  },
  {
   "cell_type": "code",
   "execution_count": 30,
   "metadata": {},
   "outputs": [
    {
     "data": {
      "text/plain": [
       "(8337020, 24)"
      ]
     },
     "execution_count": 30,
     "metadata": {},
     "output_type": "execute_result"
    }
   ],
   "source": [
    "Green_Taxi.shape"
   ]
  },
  {
   "cell_type": "markdown",
   "metadata": {},
   "source": [
    "<b>C- The following columns should be dropped (VendorID, RateCodeID,Store_and_fwd_flag,Fare_amount,Extra,MTA_tax,\n",
    "Improvement_surcharge,Tip_amount,Tolls_amount,Trip_type,Total_amount)<br>"
   ]
  },
  {
   "cell_type": "code",
   "execution_count": 31,
   "metadata": {},
   "outputs": [],
   "source": [
    "Green_Taxi.drop(columns =['Unnamed: 0' , 'Unnamed: 0.1' , 'VendorID','RateCodeID','Store_and_fwd_flag','Fare_amount', \\\n",
    "'Extra','MTA_tax','improvement_surcharge','Tip_amount','Tolls_amount','Trip_type ','Total_amount','Trip_Duration'], inplace = True) \n"
   ]
  },
  {
   "cell_type": "code",
   "execution_count": 30,
   "metadata": {},
   "outputs": [
    {
     "data": {
      "text/plain": [
       "(8337020, 11)"
      ]
     },
     "execution_count": 30,
     "metadata": {},
     "output_type": "execute_result"
    }
   ],
   "source": [
    "Green_Taxi.shape\n"
   ]
  },
  {
   "cell_type": "code",
   "execution_count": 33,
   "metadata": {},
   "outputs": [],
   "source": [
    "Green_Taxi.to_csv(r'E:/Big Data Diploma/Project/Project/New folder/Taxi/Green Taxi/Green_Taxi_B3.csv',index=False)\n",
    "#Green_Taxi.to_csv(r'E:/Big Data Diploma/Project/Project/New folder/Taxi/Green Taxi/Green_Taxi_B3.csv', date_format='%m/%d/%Y %I:%M:%S %p',index=False)"
   ]
  },
  {
   "cell_type": "code",
   "execution_count": 25,
   "metadata": {
    "scrolled": true
   },
   "outputs": [
    {
     "name": "stdout",
     "output_type": "stream",
     "text": [
      "<class 'pandas.core.frame.DataFrame'>\n",
      "Int64Index: 8337020 entries, 0 to 8721482\n",
      "Data columns (total 24 columns):\n",
      "Unnamed: 0               int64\n",
      "Unnamed: 0.1             int64\n",
      "VendorID                 int64\n",
      "lpep_pickup_datetime     object\n",
      "Lpep_dropoff_datetime    object\n",
      "Store_and_fwd_flag       object\n",
      "RateCodeID               int64\n",
      "Pickup_longitude         float64\n",
      "Pickup_latitude          float64\n",
      "Dropoff_longitude        float64\n",
      "Dropoff_latitude         float64\n",
      "Passenger_count          int64\n",
      "Trip_distance            float64\n",
      "Fare_amount              float64\n",
      "Extra                    float64\n",
      "MTA_tax                  float64\n",
      "Tip_amount               float64\n",
      "Tolls_amount             float64\n",
      "improvement_surcharge    float64\n",
      "Total_amount             float64\n",
      "Payment_type             int64\n",
      "Trip_type                float64\n",
      "Trip_Duration            object\n",
      "Final_Fare_amount        float64\n",
      "dtypes: float64(14), int64(6), object(4)\n",
      "memory usage: 1.6+ GB\n"
     ]
    }
   ],
   "source": [
    "Green_Taxi.info()"
   ]
  },
  {
   "cell_type": "markdown",
   "metadata": {},
   "source": [
    "<font color=\"red\"><u>We have observed the following: <u/></b></font><br> \n",
    "<font color=\"red\">- The total number of records decreased to <b>8,866,405</b></font><br>\n",
    "<font color=\"red\">- The total number of colums is now <b>21 column </b><font><br>\n",
    "<font color=\"red\">- The total memory usage decreased to <b>1.5+ GB </b></font><br>\n"
   ]
  },
  {
   "cell_type": "markdown",
   "metadata": {},
   "source": [
    "<b> Step 2 (Cont.)<br>\n",
    "<b> Exploratory Data Analysis (EDA)</b><br>\n",
    "\n",
    "<img  src=\"https://encrypted-tbn0.gstatic.com/images?q=tbn%3AANd9GcQRF3XB0c7LNSnpOfiUVTgubjELhPmZZdePSw63o26tlZS1Tc7n\" style=\"height:200px\"> \n"
   ]
  },
  {
   "cell_type": "code",
   "execution_count": 34,
   "metadata": {},
   "outputs": [],
   "source": [
    "#### INTERNET EXAMPLE\n",
    "# https://towardsdatascience.com/data-101s-spatial-visualizations-and-analysis-in-python-with-folium-39730da2adf\n",
    "# https://towardsdatascience.com/how-taxis-arrive-at-fares-predicting-new-york-city-yellow-cab-fares-71a8c43b7c50\n",
    "\n",
    "# Define the folder location of our dataset\n",
    "location  = \"E:/Big Data Diploma/Project/Project/New folder/Taxi/Green Taxi/\""
   ]
  },
  {
   "cell_type": "code",
   "execution_count": 36,
   "metadata": {},
   "outputs": [],
   "source": [
    "# VIP to be able to read Date Columns\n",
    "#parse_dates = ['lpep_pickup_datetime', 'Lpep_dropoff_datetime']\n",
    "#dateparse = lambda x: pd.datetime.strptime(x, '%m/%d/%Y %I:%M:%S %p')\n",
    "\n",
    "Green_Taxi = pd.read_csv(location+'Green_Taxi_B3.csv')#,date_parser=dateparse)"
   ]
  },
  {
   "cell_type": "code",
   "execution_count": 38,
   "metadata": {},
   "outputs": [],
   "source": [
    "Green_Taxi.iloc[:, 0:2] = Green_Taxi.iloc[:, 0:2].apply(pd.to_datetime, format='%m/%d/%Y %I:%M:%S %p', errors='coerce')\n"
   ]
  },
  {
   "cell_type": "code",
   "execution_count": 40,
   "metadata": {},
   "outputs": [],
   "source": [
    "Green_Taxi['Trip_Duration'] = (Green_Taxi['Lpep_dropoff_datetime'] - Green_Taxi['lpep_pickup_datetime'])\n",
    "Green_Taxi['Trip_Duration'] = Green_Taxi['Trip_Duration']/np.timedelta64(1,'s')\n"
   ]
  },
  {
   "cell_type": "code",
   "execution_count": 41,
   "metadata": {
    "scrolled": true
   },
   "outputs": [
    {
     "data": {
      "text/html": [
       "<div>\n",
       "<style scoped>\n",
       "    .dataframe tbody tr th:only-of-type {\n",
       "        vertical-align: middle;\n",
       "    }\n",
       "\n",
       "    .dataframe tbody tr th {\n",
       "        vertical-align: top;\n",
       "    }\n",
       "\n",
       "    .dataframe thead th {\n",
       "        text-align: right;\n",
       "    }\n",
       "</style>\n",
       "<table border=\"1\" class=\"dataframe\">\n",
       "  <thead>\n",
       "    <tr style=\"text-align: right;\">\n",
       "      <th></th>\n",
       "      <th>lpep_pickup_datetime</th>\n",
       "      <th>Lpep_dropoff_datetime</th>\n",
       "      <th>Pickup_longitude</th>\n",
       "      <th>Pickup_latitude</th>\n",
       "      <th>Dropoff_longitude</th>\n",
       "      <th>Dropoff_latitude</th>\n",
       "      <th>Passenger_count</th>\n",
       "      <th>Trip_distance</th>\n",
       "      <th>Payment_type</th>\n",
       "      <th>Final_Fare_amount</th>\n",
       "      <th>Trip_Duration</th>\n",
       "    </tr>\n",
       "  </thead>\n",
       "  <tbody>\n",
       "    <tr>\n",
       "      <th>0</th>\n",
       "      <td>2016-01-01 00:29:24</td>\n",
       "      <td>2016-01-01 00:39:36</td>\n",
       "      <td>-73.928642</td>\n",
       "      <td>40.680611</td>\n",
       "      <td>-73.924278</td>\n",
       "      <td>40.698044</td>\n",
       "      <td>1</td>\n",
       "      <td>1.46</td>\n",
       "      <td>1</td>\n",
       "      <td>9.3</td>\n",
       "      <td>612.0</td>\n",
       "    </tr>\n",
       "    <tr>\n",
       "      <th>1</th>\n",
       "      <td>2016-01-01 00:19:39</td>\n",
       "      <td>2016-01-01 00:39:18</td>\n",
       "      <td>-73.952675</td>\n",
       "      <td>40.723175</td>\n",
       "      <td>-73.923920</td>\n",
       "      <td>40.761379</td>\n",
       "      <td>1</td>\n",
       "      <td>3.56</td>\n",
       "      <td>2</td>\n",
       "      <td>16.8</td>\n",
       "      <td>1179.0</td>\n",
       "    </tr>\n",
       "  </tbody>\n",
       "</table>\n",
       "</div>"
      ],
      "text/plain": [
       "  lpep_pickup_datetime Lpep_dropoff_datetime  Pickup_longitude  \\\n",
       "0  2016-01-01 00:29:24   2016-01-01 00:39:36        -73.928642   \n",
       "1  2016-01-01 00:19:39   2016-01-01 00:39:18        -73.952675   \n",
       "\n",
       "   Pickup_latitude  Dropoff_longitude  Dropoff_latitude  Passenger_count  \\\n",
       "0        40.680611         -73.924278         40.698044                1   \n",
       "1        40.723175         -73.923920         40.761379                1   \n",
       "\n",
       "   Trip_distance  Payment_type  Final_Fare_amount  Trip_Duration  \n",
       "0           1.46             1                9.3          612.0  \n",
       "1           3.56             2               16.8         1179.0  "
      ]
     },
     "execution_count": 41,
     "metadata": {},
     "output_type": "execute_result"
    }
   ],
   "source": [
    "Green_Taxi[:2]"
   ]
  },
  {
   "cell_type": "code",
   "execution_count": 54,
   "metadata": {
    "scrolled": true
   },
   "outputs": [
    {
     "name": "stdout",
     "output_type": "stream",
     "text": [
      "<class 'pandas.core.frame.DataFrame'>\n",
      "Int64Index: 7906100 entries, 0 to 8337019\n",
      "Data columns (total 11 columns):\n",
      "lpep_pickup_datetime     datetime64[ns]\n",
      "Lpep_dropoff_datetime    datetime64[ns]\n",
      "Pickup_longitude         float64\n",
      "Pickup_latitude          float64\n",
      "Dropoff_longitude        float64\n",
      "Dropoff_latitude         float64\n",
      "Passenger_count          int64\n",
      "Trip_distance            float64\n",
      "Payment_type             int64\n",
      "Final_Fare_amount        float64\n",
      "Trip_Duration            float64\n",
      "dtypes: datetime64[ns](2), float64(7), int64(2)\n",
      "memory usage: 723.8 MB\n"
     ]
    }
   ],
   "source": [
    "Green_Taxi.info()"
   ]
  },
  {
   "cell_type": "markdown",
   "metadata": {},
   "source": [
    "<font color=\"red\"> To make a quick analysis we will first use the .describe() command. \n",
    "    For better reading we will transpose it describe().T"
   ]
  },
  {
   "cell_type": "code",
   "execution_count": 43,
   "metadata": {
    "scrolled": false
   },
   "outputs": [
    {
     "data": {
      "text/html": [
       "<div>\n",
       "<style scoped>\n",
       "    .dataframe tbody tr th:only-of-type {\n",
       "        vertical-align: middle;\n",
       "    }\n",
       "\n",
       "    .dataframe tbody tr th {\n",
       "        vertical-align: top;\n",
       "    }\n",
       "\n",
       "    .dataframe thead th {\n",
       "        text-align: right;\n",
       "    }\n",
       "</style>\n",
       "<table border=\"1\" class=\"dataframe\">\n",
       "  <thead>\n",
       "    <tr style=\"text-align: right;\">\n",
       "      <th></th>\n",
       "      <th>count</th>\n",
       "      <th>mean</th>\n",
       "      <th>std</th>\n",
       "      <th>min</th>\n",
       "      <th>25%</th>\n",
       "      <th>50%</th>\n",
       "      <th>75%</th>\n",
       "      <th>max</th>\n",
       "    </tr>\n",
       "  </thead>\n",
       "  <tbody>\n",
       "    <tr>\n",
       "      <th>Pickup_longitude</th>\n",
       "      <td>8337020.0</td>\n",
       "      <td>-73.939444</td>\n",
       "      <td>0.269982</td>\n",
       "      <td>-115.282494</td>\n",
       "      <td>-73.961540</td>\n",
       "      <td>-73.947472</td>\n",
       "      <td>-73.919548</td>\n",
       "      <td>-67.897514</td>\n",
       "    </tr>\n",
       "    <tr>\n",
       "      <th>Pickup_latitude</th>\n",
       "      <td>8337020.0</td>\n",
       "      <td>40.745797</td>\n",
       "      <td>0.063872</td>\n",
       "      <td>36.011406</td>\n",
       "      <td>40.694000</td>\n",
       "      <td>40.745770</td>\n",
       "      <td>40.800526</td>\n",
       "      <td>43.168007</td>\n",
       "    </tr>\n",
       "    <tr>\n",
       "      <th>Dropoff_longitude</th>\n",
       "      <td>8337020.0</td>\n",
       "      <td>-73.938128</td>\n",
       "      <td>0.271318</td>\n",
       "      <td>-115.332214</td>\n",
       "      <td>-73.968521</td>\n",
       "      <td>-73.946388</td>\n",
       "      <td>-73.914101</td>\n",
       "      <td>-49.323128</td>\n",
       "    </tr>\n",
       "    <tr>\n",
       "      <th>Dropoff_latitude</th>\n",
       "      <td>8337020.0</td>\n",
       "      <td>40.744137</td>\n",
       "      <td>0.065114</td>\n",
       "      <td>17.847042</td>\n",
       "      <td>40.695320</td>\n",
       "      <td>40.745728</td>\n",
       "      <td>40.788883</td>\n",
       "      <td>48.119473</td>\n",
       "    </tr>\n",
       "    <tr>\n",
       "      <th>Passenger_count</th>\n",
       "      <td>8337020.0</td>\n",
       "      <td>1.359560</td>\n",
       "      <td>1.030757</td>\n",
       "      <td>1.000000</td>\n",
       "      <td>1.000000</td>\n",
       "      <td>1.000000</td>\n",
       "      <td>1.000000</td>\n",
       "      <td>9.000000</td>\n",
       "    </tr>\n",
       "    <tr>\n",
       "      <th>Trip_distance</th>\n",
       "      <td>8337020.0</td>\n",
       "      <td>2.677352</td>\n",
       "      <td>2.578758</td>\n",
       "      <td>0.010000</td>\n",
       "      <td>1.050000</td>\n",
       "      <td>1.810000</td>\n",
       "      <td>3.400000</td>\n",
       "      <td>832.200000</td>\n",
       "    </tr>\n",
       "    <tr>\n",
       "      <th>Payment_type</th>\n",
       "      <td>8337020.0</td>\n",
       "      <td>1.495649</td>\n",
       "      <td>0.499981</td>\n",
       "      <td>1.000000</td>\n",
       "      <td>1.000000</td>\n",
       "      <td>1.000000</td>\n",
       "      <td>2.000000</td>\n",
       "      <td>2.000000</td>\n",
       "    </tr>\n",
       "    <tr>\n",
       "      <th>Final_Fare_amount</th>\n",
       "      <td>8337020.0</td>\n",
       "      <td>12.737006</td>\n",
       "      <td>8.067640</td>\n",
       "      <td>-14.800000</td>\n",
       "      <td>7.300000</td>\n",
       "      <td>10.300000</td>\n",
       "      <td>15.300000</td>\n",
       "      <td>3349.300000</td>\n",
       "    </tr>\n",
       "    <tr>\n",
       "      <th>Trip_Duration</th>\n",
       "      <td>8337020.0</td>\n",
       "      <td>1312.113095</td>\n",
       "      <td>6619.702871</td>\n",
       "      <td>1.000000</td>\n",
       "      <td>363.000000</td>\n",
       "      <td>600.000000</td>\n",
       "      <td>988.000000</td>\n",
       "      <td>86399.000000</td>\n",
       "    </tr>\n",
       "  </tbody>\n",
       "</table>\n",
       "</div>"
      ],
      "text/plain": [
       "                       count         mean          std         min  \\\n",
       "Pickup_longitude   8337020.0   -73.939444     0.269982 -115.282494   \n",
       "Pickup_latitude    8337020.0    40.745797     0.063872   36.011406   \n",
       "Dropoff_longitude  8337020.0   -73.938128     0.271318 -115.332214   \n",
       "Dropoff_latitude   8337020.0    40.744137     0.065114   17.847042   \n",
       "Passenger_count    8337020.0     1.359560     1.030757    1.000000   \n",
       "Trip_distance      8337020.0     2.677352     2.578758    0.010000   \n",
       "Payment_type       8337020.0     1.495649     0.499981    1.000000   \n",
       "Final_Fare_amount  8337020.0    12.737006     8.067640  -14.800000   \n",
       "Trip_Duration      8337020.0  1312.113095  6619.702871    1.000000   \n",
       "\n",
       "                          25%         50%         75%           max  \n",
       "Pickup_longitude   -73.961540  -73.947472  -73.919548    -67.897514  \n",
       "Pickup_latitude     40.694000   40.745770   40.800526     43.168007  \n",
       "Dropoff_longitude  -73.968521  -73.946388  -73.914101    -49.323128  \n",
       "Dropoff_latitude    40.695320   40.745728   40.788883     48.119473  \n",
       "Passenger_count      1.000000    1.000000    1.000000      9.000000  \n",
       "Trip_distance        1.050000    1.810000    3.400000    832.200000  \n",
       "Payment_type         1.000000    1.000000    2.000000      2.000000  \n",
       "Final_Fare_amount    7.300000   10.300000   15.300000   3349.300000  \n",
       "Trip_Duration      363.000000  600.000000  988.000000  86399.000000  "
      ]
     },
     "execution_count": 43,
     "metadata": {},
     "output_type": "execute_result"
    }
   ],
   "source": [
    "Green_Taxi.describe().T"
   ]
  },
  {
   "cell_type": "markdown",
   "metadata": {},
   "source": [
    "<B>There is a lot of interesting things that we can notice before even plotting the data, below are some of our observation: \n",
    "</B><br>\n",
    "A- The data has some wrong coordinates, as NYC has a positive latitude and a negative longitude .<i>\n",
    "  \"we will filter the correct coordinates later using our coordinates geojson program that we have developed before\"</i><br>\n",
    "B- for the Passenger_count we have cases with 9 passengers which is irrational for the Green Taxi <br>\n",
    "C- Trip_distance max distance is 832.2 which is irrational. <br>\n",
    "D- Final_Fare_amount has min value of -14.8 and max of 3349.3 which is also not realistic <br>\n",
    "E- Trip_Duration has some values for trips that took almost a day (86399 secs = 23.99 H)"
   ]
  },
  {
   "cell_type": "code",
   "execution_count": null,
   "metadata": {
    "scrolled": false
   },
   "outputs": [],
   "source": [
    "# https://towardsdatascience.com/practical-statistics-visualization-with-python-plotly-770e96e35067\n",
    "from plotly.offline import init_notebook_mode, iplot\n",
    "import plotly.figure_factory as ff\n",
    "# VendorID, RateCodeID, Payment_type, Trip_type\n",
    "# Hint: include=['O'] stands for datatype object\n",
    "table_cat = ff.create_table(Green_Taxi.describe(include=['O']).T, index=True, index_title='Categorical columns')\n",
    "iplot(table_cat)\n"
   ]
  },
  {
   "cell_type": "code",
   "execution_count": 96,
   "metadata": {},
   "outputs": [
    {
     "data": {
      "text/html": [
       "<div>\n",
       "<style scoped>\n",
       "    .dataframe tbody tr th:only-of-type {\n",
       "        vertical-align: middle;\n",
       "    }\n",
       "\n",
       "    .dataframe tbody tr th {\n",
       "        vertical-align: top;\n",
       "    }\n",
       "\n",
       "    .dataframe thead th {\n",
       "        text-align: right;\n",
       "    }\n",
       "</style>\n",
       "<table border=\"1\" class=\"dataframe\">\n",
       "  <thead>\n",
       "    <tr style=\"text-align: right;\">\n",
       "      <th></th>\n",
       "      <th>lpep_pickup_datetime</th>\n",
       "      <th>Lpep_dropoff_datetime</th>\n",
       "      <th>Pickup_longitude</th>\n",
       "      <th>Pickup_latitude</th>\n",
       "      <th>Dropoff_longitude</th>\n",
       "      <th>Dropoff_latitude</th>\n",
       "      <th>Passenger_count</th>\n",
       "      <th>Trip_distance</th>\n",
       "      <th>Payment_type</th>\n",
       "      <th>Final_Fare_amount</th>\n",
       "      <th>Trip_Duration</th>\n",
       "    </tr>\n",
       "  </thead>\n",
       "  <tbody>\n",
       "    <tr>\n",
       "      <th>0</th>\n",
       "      <td>2016-01-01 00:29:24</td>\n",
       "      <td>2016-01-01 00:39:36</td>\n",
       "      <td>-73.928642</td>\n",
       "      <td>40.680611</td>\n",
       "      <td>-73.924278</td>\n",
       "      <td>40.698044</td>\n",
       "      <td>1</td>\n",
       "      <td>1.46</td>\n",
       "      <td>1</td>\n",
       "      <td>9.3</td>\n",
       "      <td>612.0</td>\n",
       "    </tr>\n",
       "    <tr>\n",
       "      <th>5399991</th>\n",
       "      <td>2016-04-26 08:09:44</td>\n",
       "      <td>2016-04-26 08:25:02</td>\n",
       "      <td>-73.941879</td>\n",
       "      <td>40.787128</td>\n",
       "      <td>-73.919235</td>\n",
       "      <td>40.817146</td>\n",
       "      <td>1</td>\n",
       "      <td>2.78</td>\n",
       "      <td>2</td>\n",
       "      <td>12.3</td>\n",
       "      <td>918.0</td>\n",
       "    </tr>\n",
       "    <tr>\n",
       "      <th>5399990</th>\n",
       "      <td>2016-04-26 08:41:56</td>\n",
       "      <td>2016-04-26 08:43:41</td>\n",
       "      <td>-73.956482</td>\n",
       "      <td>40.813572</td>\n",
       "      <td>-73.960297</td>\n",
       "      <td>40.812389</td>\n",
       "      <td>1</td>\n",
       "      <td>0.29</td>\n",
       "      <td>2</td>\n",
       "      <td>4.8</td>\n",
       "      <td>105.0</td>\n",
       "    </tr>\n",
       "    <tr>\n",
       "      <th>5399989</th>\n",
       "      <td>2016-04-26 08:24:02</td>\n",
       "      <td>2016-04-26 08:44:06</td>\n",
       "      <td>-73.945419</td>\n",
       "      <td>40.792027</td>\n",
       "      <td>-73.987549</td>\n",
       "      <td>40.770416</td>\n",
       "      <td>1</td>\n",
       "      <td>3.54</td>\n",
       "      <td>2</td>\n",
       "      <td>16.3</td>\n",
       "      <td>1204.0</td>\n",
       "    </tr>\n",
       "    <tr>\n",
       "      <th>5399986</th>\n",
       "      <td>2016-04-26 08:43:16</td>\n",
       "      <td>2016-04-26 09:18:58</td>\n",
       "      <td>-73.955437</td>\n",
       "      <td>40.788357</td>\n",
       "      <td>-73.979866</td>\n",
       "      <td>40.755970</td>\n",
       "      <td>1</td>\n",
       "      <td>2.53</td>\n",
       "      <td>1</td>\n",
       "      <td>21.8</td>\n",
       "      <td>2142.0</td>\n",
       "    </tr>\n",
       "  </tbody>\n",
       "</table>\n",
       "</div>"
      ],
      "text/plain": [
       "        lpep_pickup_datetime Lpep_dropoff_datetime  Pickup_longitude  \\\n",
       "0        2016-01-01 00:29:24   2016-01-01 00:39:36        -73.928642   \n",
       "5399991  2016-04-26 08:09:44   2016-04-26 08:25:02        -73.941879   \n",
       "5399990  2016-04-26 08:41:56   2016-04-26 08:43:41        -73.956482   \n",
       "5399989  2016-04-26 08:24:02   2016-04-26 08:44:06        -73.945419   \n",
       "5399986  2016-04-26 08:43:16   2016-04-26 09:18:58        -73.955437   \n",
       "\n",
       "         Pickup_latitude  Dropoff_longitude  Dropoff_latitude  \\\n",
       "0              40.680611         -73.924278         40.698044   \n",
       "5399991        40.787128         -73.919235         40.817146   \n",
       "5399990        40.813572         -73.960297         40.812389   \n",
       "5399989        40.792027         -73.987549         40.770416   \n",
       "5399986        40.788357         -73.979866         40.755970   \n",
       "\n",
       "         Passenger_count  Trip_distance  Payment_type  Final_Fare_amount  \\\n",
       "0                      1           1.46             1                9.3   \n",
       "5399991                1           2.78             2               12.3   \n",
       "5399990                1           0.29             2                4.8   \n",
       "5399989                1           3.54             2               16.3   \n",
       "5399986                1           2.53             1               21.8   \n",
       "\n",
       "         Trip_Duration  \n",
       "0                612.0  \n",
       "5399991          918.0  \n",
       "5399990          105.0  \n",
       "5399989         1204.0  \n",
       "5399986         2142.0  "
      ]
     },
     "execution_count": 96,
     "metadata": {},
     "output_type": "execute_result"
    }
   ],
   "source": [
    "# We've also noticed below that we have some records with coordinates 0 which is also incorrect\n",
    "# So we will remove them as well\n",
    "Green_Taxi.sort_values(by='Passenger_count')[:5]"
   ]
  },
  {
   "cell_type": "code",
   "execution_count": 90,
   "metadata": {},
   "outputs": [
    {
     "name": "stdout",
     "output_type": "stream",
     "text": [
      "There are 0 trip records with 0 km distance\n"
     ]
    }
   ],
   "source": [
    "#Around 119K  trip record with distance equal to 0. Below are some possible explanation for such records.\n",
    "#Customer changed mind and cancelled the journey just after accepting it.\n",
    "#Software didn't recorded dropoff location properly due to which dropoff location is the same as the pickup location.\n",
    "#Issue with GPS tracker while the journey is being finished.\n",
    "#Driver cancelled the trip just after accepting it due to some reason. So the trip couldn't start\n",
    "#Or some other issue with the software itself which a technical guy can explain\n",
    "\n",
    "print(\"There are {} trip records with 0 km distance\".format(Green_Taxi.Trip_distance[Green_Taxi.Trip_distance == 0 ].count()))\n"
   ]
  },
  {
   "cell_type": "code",
   "execution_count": 92,
   "metadata": {},
   "outputs": [],
   "source": [
    "Green_Taxi = Green_Taxi[Green_Taxi.Trip_distance != 0]\n",
    "Green_Taxi = Green_Taxi[Green_Taxi.Pickup_longitude != 0]\n",
    "Green_Taxi = Green_Taxi[Green_Taxi.Dropoff_longitude != 0]\n",
    "Green_Taxi = Green_Taxi[Green_Taxi.Trip_Duration != 0]"
   ]
  },
  {
   "cell_type": "code",
   "execution_count": 47,
   "metadata": {},
   "outputs": [
    {
     "data": {
      "text/plain": [
       "array([1, 2, 6, 5, 4, 3, 7, 9, 8], dtype=int64)"
      ]
     },
     "execution_count": 47,
     "metadata": {},
     "output_type": "execute_result"
    }
   ],
   "source": [
    "Green_Taxi.Passenger_count.unique()\n"
   ]
  },
  {
   "cell_type": "code",
   "execution_count": null,
   "metadata": {},
   "outputs": [],
   "source": []
  },
  {
   "cell_type": "code",
   "execution_count": 52,
   "metadata": {},
   "outputs": [],
   "source": [
    "# Let's remove all values for Passenger_count >4\n",
    "Green_Taxi = Green_Taxi[Green_Taxi.Passenger_count.isin([1,2,3,4])]\n"
   ]
  },
  {
   "cell_type": "code",
   "execution_count": 79,
   "metadata": {},
   "outputs": [
    {
     "data": {
      "text/plain": [
       "Index(['lpep_pickup_datetime', 'Lpep_dropoff_datetime', 'Pickup_longitude',\n",
       "       'Pickup_latitude', 'Dropoff_longitude', 'Dropoff_latitude',\n",
       "       'Passenger_count', 'Trip_distance', 'Payment_type', 'Final_Fare_amount',\n",
       "       'Trip_Duration'],\n",
       "      dtype='object')"
      ]
     },
     "execution_count": 79,
     "metadata": {},
     "output_type": "execute_result"
    }
   ],
   "source": [
    "# Detecting Outliers\n",
    "#https://towardsdatascience.com/ways-to-detect-and-remove-the-outliers-404d16608dba\n",
    "#~Green_Taxi.columns.isin(['lpep_pickup_datetime', 'Lpep_dropoff_datetime'])\n",
    "Green_Taxi.columns\n"
   ]
  },
  {
   "cell_type": "code",
   "execution_count": 56,
   "metadata": {},
   "outputs": [],
   "source": [
    "def boxplt(x):\n",
    "    plt.figure(figsize = (20,5))\n",
    "    sns.boxplot(Green_Taxi[x])\n",
    "    plt.show()"
   ]
  },
  {
   "cell_type": "code",
   "execution_count": 99,
   "metadata": {
    "scrolled": true
   },
   "outputs": [
    {
     "data": {
      "image/png": "[encoded data removed]",
      "text/plain": [
       "<Figure size 1440x360 with 1 Axes>"
      ]
     },
     "metadata": {
      "needs_background": "light"
     },
     "output_type": "display_data"
    }
   ],
   "source": [
    "boxplt('Trip_distance')\n"
   ]
  },
  {
   "cell_type": "code",
   "execution_count": 109,
   "metadata": {},
   "outputs": [],
   "source": [
    "Green_Taxi_Bk = Green_Taxi.copy()"
   ]
  },
  {
   "cell_type": "code",
   "execution_count": 57,
   "metadata": {
    "scrolled": true
   },
   "outputs": [],
   "source": [
    "def quntile(x):\n",
    "    Q1 = Green_Taxi[x].quantile(0.25)\n",
    "    Q3 = Green_Taxi[x].quantile(0.75)\n",
    "    IQR = Q3 - Q1\n",
    "\n",
    "    filter = (Green_Taxi[x] >= Q1 - 1.5 * IQR) & (Green_Taxi[x] <= Q3 + 1.5 *IQR)\n",
    "    Test = Green_Taxi.loc[filter]\n",
    "    return Test"
   ]
  },
  {
   "cell_type": "code",
   "execution_count": null,
   "metadata": {},
   "outputs": [],
   "source": [
    "Green_Taxi= quntile('Trip_distance')"
   ]
  },
  {
   "cell_type": "code",
   "execution_count": 113,
   "metadata": {
    "scrolled": true
   },
   "outputs": [
    {
     "data": {
      "image/png": "[encoded data removed]",
      "text/plain": [
       "<Figure size 1440x360 with 1 Axes>"
      ]
     },
     "metadata": {
      "needs_background": "light"
     },
     "output_type": "display_data"
    }
   ],
   "source": [
    "boxplt('Trip_distance')"
   ]
  },
  {
   "cell_type": "code",
   "execution_count": null,
   "metadata": {},
   "outputs": [],
   "source": [
    "#['lpep_pickup_datetime', 'Lpep_dropoff_datetime', 'Pickup_longitude',\n",
    "#       'Pickup_latitude', 'Dropoff_longitude', 'Dropoff_latitude',\n",
    "#       'Passenger_count', 'Trip_distance', 'Payment_type', 'Final_Fare_amount',\n",
    "#       'Trip_Duration'],\n",
    "#      dtype='object')"
   ]
  },
  {
   "cell_type": "code",
   "execution_count": 121,
   "metadata": {
    "scrolled": false
   },
   "outputs": [
    {
     "data": {
      "image/png": "[encoded data removed]",
      "text/plain": [
       "<Figure size 1440x360 with 1 Axes>"
      ]
     },
     "metadata": {
      "needs_background": "light"
     },
     "output_type": "display_data"
    }
   ],
   "source": [
    "boxplt('Final_Fare_amount')"
   ]
  },
  {
   "cell_type": "code",
   "execution_count": 142,
   "metadata": {
    "scrolled": true
   },
   "outputs": [],
   "source": [
    "Green_Taxi= quntile('Final_Fare_amount')\n"
   ]
  },
  {
   "cell_type": "code",
   "execution_count": 143,
   "metadata": {
    "scrolled": false
   },
   "outputs": [
    {
     "data": {
      "image/png": "[encoded data removed]",
      "text/plain": [
       "<Figure size 1440x360 with 1 Axes>"
      ]
     },
     "metadata": {
      "needs_background": "light"
     },
     "output_type": "display_data"
    }
   ],
   "source": [
    "boxplt('Final_Fare_amount')"
   ]
  },
  {
   "cell_type": "code",
   "execution_count": 144,
   "metadata": {
    "scrolled": true
   },
   "outputs": [
    {
     "data": {
      "image/png": "[encoded data removed]",
      "text/plain": [
       "<Figure size 1440x360 with 1 Axes>"
      ]
     },
     "metadata": {
      "needs_background": "light"
     },
     "output_type": "display_data"
    }
   ],
   "source": [
    "boxplt('Trip_Duration')"
   ]
  },
  {
   "cell_type": "code",
   "execution_count": 145,
   "metadata": {},
   "outputs": [],
   "source": [
    "Green_Taxi= quntile('Trip_Duration')"
   ]
  },
  {
   "cell_type": "code",
   "execution_count": 146,
   "metadata": {},
   "outputs": [
    {
     "data": {
      "image/png": "[encoded data removed]",
      "text/plain": [
       "<Figure size 1440x360 with 1 Axes>"
      ]
     },
     "metadata": {
      "needs_background": "light"
     },
     "output_type": "display_data"
    }
   ],
   "source": [
    "boxplt('Trip_Duration')"
   ]
  },
  {
   "cell_type": "code",
   "execution_count": 149,
   "metadata": {},
   "outputs": [
    {
     "data": {
      "text/plain": [
       "(7027262, 11)"
      ]
     },
     "execution_count": 149,
     "metadata": {},
     "output_type": "execute_result"
    }
   ],
   "source": [
    "Green_Taxi.shape"
   ]
  },
  {
   "cell_type": "code",
   "execution_count": 148,
   "metadata": {},
   "outputs": [],
   "source": [
    "Green_Taxi.to_csv(r'E:/Big Data Diploma/Project/Project/New folder/Taxi/Green Taxi/Green_Taxi_B4.csv',index=False)\n"
   ]
  },
  {
   "cell_type": "markdown",
   "metadata": {},
   "source": [
    " "
   ]
  },
  {
   "cell_type": "markdown",
   "metadata": {},
   "source": [
    "<b>Starting the new Phase"
   ]
  },
  {
   "cell_type": "code",
   "execution_count": null,
   "metadata": {},
   "outputs": [],
   "source": [
    "Green_Taxi = pd.read_csv(location+'Green_Taxi_B4.csv')#,date_parser=dateparse)\n"
   ]
  },
  {
   "cell_type": "code",
   "execution_count": null,
   "metadata": {},
   "outputs": [],
   "source": [
    "Green_Taxi.iloc[:, 0:2] = Green_Taxi.iloc[:, 0:2].apply(pd.to_datetime, format='%m/%d/%Y %I:%M:%S %p', errors='coerce')\n",
    "Green_Taxi['Trip_Duration'] = (Green_Taxi['Lpep_dropoff_datetime'] - Green_Taxi['lpep_pickup_datetime'])\n",
    "Green_Taxi['Trip_Duration'] = Green_Taxi['Trip_Duration']/np.timedelta64(1,'s')\n"
   ]
  },
  {
   "cell_type": "code",
   "execution_count": 150,
   "metadata": {},
   "outputs": [
    {
     "data": {
      "text/html": [
       "<div>\n",
       "<style scoped>\n",
       "    .dataframe tbody tr th:only-of-type {\n",
       "        vertical-align: middle;\n",
       "    }\n",
       "\n",
       "    .dataframe tbody tr th {\n",
       "        vertical-align: top;\n",
       "    }\n",
       "\n",
       "    .dataframe thead th {\n",
       "        text-align: right;\n",
       "    }\n",
       "</style>\n",
       "<table border=\"1\" class=\"dataframe\">\n",
       "  <thead>\n",
       "    <tr style=\"text-align: right;\">\n",
       "      <th></th>\n",
       "      <th>lpep_pickup_datetime</th>\n",
       "      <th>Lpep_dropoff_datetime</th>\n",
       "      <th>Pickup_longitude</th>\n",
       "      <th>Pickup_latitude</th>\n",
       "      <th>Dropoff_longitude</th>\n",
       "      <th>Dropoff_latitude</th>\n",
       "      <th>Passenger_count</th>\n",
       "      <th>Trip_distance</th>\n",
       "      <th>Payment_type</th>\n",
       "      <th>Final_Fare_amount</th>\n",
       "      <th>Trip_Duration</th>\n",
       "    </tr>\n",
       "  </thead>\n",
       "  <tbody>\n",
       "    <tr>\n",
       "      <th>0</th>\n",
       "      <td>2016-01-01 00:29:24</td>\n",
       "      <td>2016-01-01 00:39:36</td>\n",
       "      <td>-73.928642</td>\n",
       "      <td>40.680611</td>\n",
       "      <td>-73.924278</td>\n",
       "      <td>40.698044</td>\n",
       "      <td>1</td>\n",
       "      <td>1.46</td>\n",
       "      <td>1</td>\n",
       "      <td>9.3</td>\n",
       "      <td>612.0</td>\n",
       "    </tr>\n",
       "    <tr>\n",
       "      <th>1</th>\n",
       "      <td>2016-01-01 00:19:39</td>\n",
       "      <td>2016-01-01 00:39:18</td>\n",
       "      <td>-73.952675</td>\n",
       "      <td>40.723175</td>\n",
       "      <td>-73.923920</td>\n",
       "      <td>40.761379</td>\n",
       "      <td>1</td>\n",
       "      <td>3.56</td>\n",
       "      <td>2</td>\n",
       "      <td>16.8</td>\n",
       "      <td>1179.0</td>\n",
       "    </tr>\n",
       "  </tbody>\n",
       "</table>\n",
       "</div>"
      ],
      "text/plain": [
       "  lpep_pickup_datetime Lpep_dropoff_datetime  Pickup_longitude  \\\n",
       "0  2016-01-01 00:29:24   2016-01-01 00:39:36        -73.928642   \n",
       "1  2016-01-01 00:19:39   2016-01-01 00:39:18        -73.952675   \n",
       "\n",
       "   Pickup_latitude  Dropoff_longitude  Dropoff_latitude  Passenger_count  \\\n",
       "0        40.680611         -73.924278         40.698044                1   \n",
       "1        40.723175         -73.923920         40.761379                1   \n",
       "\n",
       "   Trip_distance  Payment_type  Final_Fare_amount  Trip_Duration  \n",
       "0           1.46             1                9.3          612.0  \n",
       "1           3.56             2               16.8         1179.0  "
      ]
     },
     "execution_count": 150,
     "metadata": {},
     "output_type": "execute_result"
    }
   ],
   "source": [
    "Green_Taxi[:2]"
   ]
  },
  {
   "cell_type": "markdown",
   "metadata": {},
   "source": [
    " "
   ]
  },
  {
   "cell_type": "markdown",
   "metadata": {},
   "source": [
    "To ensure a higher accuracy we will re-calculate the traveled distance using our own function as well and compare the results"
   ]
  },
  {
   "cell_type": "code",
   "execution_count": 356,
   "metadata": {
    "scrolled": true
   },
   "outputs": [],
   "source": [
    "from haversine import haversine\n",
    "\n",
    "def calc_distance(df):\n",
    "    pickup = (df['Pickup_latitude'], df['Pickup_longitude'])\n",
    "    drop = (df['Dropoff_latitude'], df['Dropoff_longitude'])\n",
    "    return haversine(pickup, drop)\n"
   ]
  },
  {
   "cell_type": "code",
   "execution_count": 358,
   "metadata": {},
   "outputs": [],
   "source": [
    "#Calculate distance and assign new column to the dataframe.\n",
    "Green_Taxi['New_distance'] = Green_Taxi.apply(lambda x: calc_distance(x), axis = 1)\n"
   ]
  },
  {
   "cell_type": "code",
   "execution_count": 359,
   "metadata": {
    "scrolled": true
   },
   "outputs": [
    {
     "data": {
      "text/html": [
       "<div>\n",
       "<style scoped>\n",
       "    .dataframe tbody tr th:only-of-type {\n",
       "        vertical-align: middle;\n",
       "    }\n",
       "\n",
       "    .dataframe tbody tr th {\n",
       "        vertical-align: top;\n",
       "    }\n",
       "\n",
       "    .dataframe thead th {\n",
       "        text-align: right;\n",
       "    }\n",
       "</style>\n",
       "<table border=\"1\" class=\"dataframe\">\n",
       "  <thead>\n",
       "    <tr style=\"text-align: right;\">\n",
       "      <th></th>\n",
       "      <th>Pickup_longitude</th>\n",
       "      <th>Pickup_latitude</th>\n",
       "      <th>Dropoff_longitude</th>\n",
       "      <th>Dropoff_latitude</th>\n",
       "      <th>Passenger_count</th>\n",
       "      <th>Trip_distance</th>\n",
       "      <th>Final_Fare_amount</th>\n",
       "      <th>Trip_Duration</th>\n",
       "      <th>month</th>\n",
       "      <th>week</th>\n",
       "      <th>day</th>\n",
       "      <th>hour</th>\n",
       "      <th>New_distance</th>\n",
       "    </tr>\n",
       "  </thead>\n",
       "  <tbody>\n",
       "    <tr>\n",
       "      <th>162875</th>\n",
       "      <td>-73.989761</td>\n",
       "      <td>40.701973</td>\n",
       "      <td>-73.974419</td>\n",
       "      <td>40.759964</td>\n",
       "      <td>1</td>\n",
       "      <td>6.9</td>\n",
       "      <td>23.3</td>\n",
       "      <td>1382.0</td>\n",
       "      <td>1</td>\n",
       "      <td>1</td>\n",
       "      <td>4</td>\n",
       "      <td>15</td>\n",
       "      <td>6.576635</td>\n",
       "    </tr>\n",
       "    <tr>\n",
       "      <th>5275084</th>\n",
       "      <td>-73.940201</td>\n",
       "      <td>40.851357</td>\n",
       "      <td>-73.991020</td>\n",
       "      <td>40.766171</td>\n",
       "      <td>1</td>\n",
       "      <td>6.9</td>\n",
       "      <td>22.3</td>\n",
       "      <td>844.0</td>\n",
       "      <td>4</td>\n",
       "      <td>16</td>\n",
       "      <td>23</td>\n",
       "      <td>12</td>\n",
       "      <td>10.393146</td>\n",
       "    </tr>\n",
       "    <tr>\n",
       "      <th>2197597</th>\n",
       "      <td>-73.989700</td>\n",
       "      <td>40.702229</td>\n",
       "      <td>-73.956238</td>\n",
       "      <td>40.763748</td>\n",
       "      <td>1</td>\n",
       "      <td>6.9</td>\n",
       "      <td>22.8</td>\n",
       "      <td>1101.0</td>\n",
       "      <td>2</td>\n",
       "      <td>7</td>\n",
       "      <td>19</td>\n",
       "      <td>9</td>\n",
       "      <td>7.398959</td>\n",
       "    </tr>\n",
       "    <tr>\n",
       "      <th>7035727</th>\n",
       "      <td>-73.807678</td>\n",
       "      <td>40.699894</td>\n",
       "      <td>-73.741806</td>\n",
       "      <td>40.666935</td>\n",
       "      <td>1</td>\n",
       "      <td>6.9</td>\n",
       "      <td>22.8</td>\n",
       "      <td>1129.0</td>\n",
       "      <td>5</td>\n",
       "      <td>22</td>\n",
       "      <td>31</td>\n",
       "      <td>19</td>\n",
       "      <td>6.654574</td>\n",
       "    </tr>\n",
       "    <tr>\n",
       "      <th>6478973</th>\n",
       "      <td>-73.845779</td>\n",
       "      <td>40.754612</td>\n",
       "      <td>-73.805206</td>\n",
       "      <td>40.678421</td>\n",
       "      <td>1</td>\n",
       "      <td>6.9</td>\n",
       "      <td>21.3</td>\n",
       "      <td>607.0</td>\n",
       "      <td>5</td>\n",
       "      <td>20</td>\n",
       "      <td>19</td>\n",
       "      <td>0</td>\n",
       "      <td>9.136123</td>\n",
       "    </tr>\n",
       "    <tr>\n",
       "      <th>3503206</th>\n",
       "      <td>-73.990974</td>\n",
       "      <td>40.700054</td>\n",
       "      <td>-73.954262</td>\n",
       "      <td>40.764111</td>\n",
       "      <td>1</td>\n",
       "      <td>6.9</td>\n",
       "      <td>22.3</td>\n",
       "      <td>1257.0</td>\n",
       "      <td>3</td>\n",
       "      <td>11</td>\n",
       "      <td>17</td>\n",
       "      <td>7</td>\n",
       "      <td>7.765492</td>\n",
       "    </tr>\n",
       "    <tr>\n",
       "      <th>6633925</th>\n",
       "      <td>-73.917732</td>\n",
       "      <td>40.770069</td>\n",
       "      <td>-73.832878</td>\n",
       "      <td>40.783321</td>\n",
       "      <td>1</td>\n",
       "      <td>6.9</td>\n",
       "      <td>22.3</td>\n",
       "      <td>840.0</td>\n",
       "      <td>5</td>\n",
       "      <td>20</td>\n",
       "      <td>22</td>\n",
       "      <td>10</td>\n",
       "      <td>7.295402</td>\n",
       "    </tr>\n",
       "    <tr>\n",
       "      <th>2444376</th>\n",
       "      <td>-73.995689</td>\n",
       "      <td>40.695057</td>\n",
       "      <td>-73.973846</td>\n",
       "      <td>40.613144</td>\n",
       "      <td>1</td>\n",
       "      <td>6.9</td>\n",
       "      <td>24.3</td>\n",
       "      <td>1401.0</td>\n",
       "      <td>2</td>\n",
       "      <td>8</td>\n",
       "      <td>24</td>\n",
       "      <td>8</td>\n",
       "      <td>9.292840</td>\n",
       "    </tr>\n",
       "    <tr>\n",
       "      <th>183213</th>\n",
       "      <td>-73.942734</td>\n",
       "      <td>40.720516</td>\n",
       "      <td>-73.987358</td>\n",
       "      <td>40.684711</td>\n",
       "      <td>1</td>\n",
       "      <td>6.9</td>\n",
       "      <td>24.3</td>\n",
       "      <td>1302.0</td>\n",
       "      <td>1</td>\n",
       "      <td>1</td>\n",
       "      <td>4</td>\n",
       "      <td>23</td>\n",
       "      <td>5.477351</td>\n",
       "    </tr>\n",
       "    <tr>\n",
       "      <th>2722794</th>\n",
       "      <td>-73.807549</td>\n",
       "      <td>40.699360</td>\n",
       "      <td>-73.864731</td>\n",
       "      <td>40.770309</td>\n",
       "      <td>1</td>\n",
       "      <td>6.9</td>\n",
       "      <td>22.8</td>\n",
       "      <td>985.0</td>\n",
       "      <td>2</td>\n",
       "      <td>9</td>\n",
       "      <td>29</td>\n",
       "      <td>16</td>\n",
       "      <td>9.244089</td>\n",
       "    </tr>\n",
       "  </tbody>\n",
       "</table>\n",
       "</div>"
      ],
      "text/plain": [
       "         Pickup_longitude  Pickup_latitude  Dropoff_longitude  \\\n",
       "162875         -73.989761        40.701973         -73.974419   \n",
       "5275084        -73.940201        40.851357         -73.991020   \n",
       "2197597        -73.989700        40.702229         -73.956238   \n",
       "7035727        -73.807678        40.699894         -73.741806   \n",
       "6478973        -73.845779        40.754612         -73.805206   \n",
       "3503206        -73.990974        40.700054         -73.954262   \n",
       "6633925        -73.917732        40.770069         -73.832878   \n",
       "2444376        -73.995689        40.695057         -73.973846   \n",
       "183213         -73.942734        40.720516         -73.987358   \n",
       "2722794        -73.807549        40.699360         -73.864731   \n",
       "\n",
       "         Dropoff_latitude  Passenger_count  Trip_distance  Final_Fare_amount  \\\n",
       "162875          40.759964                1            6.9               23.3   \n",
       "5275084         40.766171                1            6.9               22.3   \n",
       "2197597         40.763748                1            6.9               22.8   \n",
       "7035727         40.666935                1            6.9               22.8   \n",
       "6478973         40.678421                1            6.9               21.3   \n",
       "3503206         40.764111                1            6.9               22.3   \n",
       "6633925         40.783321                1            6.9               22.3   \n",
       "2444376         40.613144                1            6.9               24.3   \n",
       "183213          40.684711                1            6.9               24.3   \n",
       "2722794         40.770309                1            6.9               22.8   \n",
       "\n",
       "         Trip_Duration  month  week  day  hour  New_distance  \n",
       "162875          1382.0      1     1    4    15      6.576635  \n",
       "5275084          844.0      4    16   23    12     10.393146  \n",
       "2197597         1101.0      2     7   19     9      7.398959  \n",
       "7035727         1129.0      5    22   31    19      6.654574  \n",
       "6478973          607.0      5    20   19     0      9.136123  \n",
       "3503206         1257.0      3    11   17     7      7.765492  \n",
       "6633925          840.0      5    20   22    10      7.295402  \n",
       "2444376         1401.0      2     8   24     8      9.292840  \n",
       "183213          1302.0      1     1    4    23      5.477351  \n",
       "2722794          985.0      2     9   29    16      9.244089  "
      ]
     },
     "execution_count": 359,
     "metadata": {},
     "output_type": "execute_result"
    }
   ],
   "source": [
    "#7874/60/24\n",
    "Green_Taxi.sort_values(by='Trip_distance', ascending = False)[:10]"
   ]
  },
  {
   "cell_type": "code",
   "execution_count": 158,
   "metadata": {},
   "outputs": [],
   "source": [
    "Green_Taxi['month'] = Green_Taxi.lpep_pickup_datetime.apply(lambda x: x.month)\n",
    "Green_Taxi['week']  = Green_Taxi.lpep_pickup_datetime.apply(lambda x: x.week)\n",
    "Green_Taxi['day']   = Green_Taxi.lpep_pickup_datetime.apply(lambda x: x.day)\n",
    "Green_Taxi['hour']  = Green_Taxi.lpep_pickup_datetime.apply(lambda x: x.hour)\n"
   ]
  },
  {
   "cell_type": "code",
   "execution_count": 397,
   "metadata": {
    "scrolled": false
   },
   "outputs": [
    {
     "data": {
      "text/html": [
       "<div>\n",
       "<style scoped>\n",
       "    .dataframe tbody tr th:only-of-type {\n",
       "        vertical-align: middle;\n",
       "    }\n",
       "\n",
       "    .dataframe tbody tr th {\n",
       "        vertical-align: top;\n",
       "    }\n",
       "\n",
       "    .dataframe thead th {\n",
       "        text-align: right;\n",
       "    }\n",
       "</style>\n",
       "<table border=\"1\" class=\"dataframe\">\n",
       "  <thead>\n",
       "    <tr style=\"text-align: right;\">\n",
       "      <th></th>\n",
       "      <th>Pickup_longitude</th>\n",
       "      <th>Pickup_latitude</th>\n",
       "      <th>Dropoff_longitude</th>\n",
       "      <th>Dropoff_latitude</th>\n",
       "      <th>Passenger_count</th>\n",
       "      <th>Trip_distance</th>\n",
       "      <th>Final_Fare_amount</th>\n",
       "      <th>Trip_Duration</th>\n",
       "      <th>month</th>\n",
       "      <th>week</th>\n",
       "      <th>day</th>\n",
       "      <th>hour</th>\n",
       "      <th>New_distance</th>\n",
       "    </tr>\n",
       "  </thead>\n",
       "  <tbody>\n",
       "    <tr>\n",
       "      <th>0</th>\n",
       "      <td>-73.928642</td>\n",
       "      <td>40.680611</td>\n",
       "      <td>-73.924278</td>\n",
       "      <td>40.698044</td>\n",
       "      <td>1</td>\n",
       "      <td>1.46</td>\n",
       "      <td>9.3</td>\n",
       "      <td>612.0</td>\n",
       "      <td>1</td>\n",
       "      <td>53</td>\n",
       "      <td>1</td>\n",
       "      <td>0</td>\n",
       "      <td>1.973094</td>\n",
       "    </tr>\n",
       "    <tr>\n",
       "      <th>1</th>\n",
       "      <td>-73.952675</td>\n",
       "      <td>40.723175</td>\n",
       "      <td>-73.923920</td>\n",
       "      <td>40.761379</td>\n",
       "      <td>1</td>\n",
       "      <td>3.56</td>\n",
       "      <td>16.8</td>\n",
       "      <td>1179.0</td>\n",
       "      <td>1</td>\n",
       "      <td>53</td>\n",
       "      <td>1</td>\n",
       "      <td>0</td>\n",
       "      <td>4.890321</td>\n",
       "    </tr>\n",
       "  </tbody>\n",
       "</table>\n",
       "</div>"
      ],
      "text/plain": [
       "   Pickup_longitude  Pickup_latitude  Dropoff_longitude  Dropoff_latitude  \\\n",
       "0        -73.928642        40.680611         -73.924278         40.698044   \n",
       "1        -73.952675        40.723175         -73.923920         40.761379   \n",
       "\n",
       "   Passenger_count  Trip_distance  Final_Fare_amount  Trip_Duration  month  \\\n",
       "0                1           1.46                9.3          612.0      1   \n",
       "1                1           3.56               16.8         1179.0      1   \n",
       "\n",
       "   week  day  hour  New_distance  \n",
       "0    53    1     0      1.973094  \n",
       "1    53    1     0      4.890321  "
      ]
     },
     "execution_count": 397,
     "metadata": {},
     "output_type": "execute_result"
    }
   ],
   "source": [
    "Green_Taxi[:2]"
   ]
  },
  {
   "cell_type": "code",
   "execution_count": null,
   "metadata": {},
   "outputs": [],
   "source": [
    "# We thought of creating a new Feature (Speed) that we can use to remove more outtliers and get better results in our model"
   ]
  },
  {
   "cell_type": "code",
   "execution_count": 399,
   "metadata": {},
   "outputs": [],
   "source": [
    "Green_Taxi['speed']=Green_Taxi['New_distance']/(Green_Taxi['Trip_Duration']/(60*60))"
   ]
  },
  {
   "cell_type": "code",
   "execution_count": 401,
   "metadata": {
    "scrolled": true
   },
   "outputs": [
    {
     "data": {
      "image/png": "[encoded data removed]",
      "text/plain": [
       "<Figure size 1440x360 with 1 Axes>"
      ]
     },
     "metadata": {
      "needs_background": "light"
     },
     "output_type": "display_data"
    }
   ],
   "source": [
    "boxplt('speed')"
   ]
  },
  {
   "cell_type": "code",
   "execution_count": 402,
   "metadata": {},
   "outputs": [],
   "source": [
    "Green_Taxi= quntile('speed')"
   ]
  },
  {
   "cell_type": "code",
   "execution_count": 58,
   "metadata": {
    "scrolled": false
   },
   "outputs": [
    {
     "data": {
      "image/png": "[encoded data removed]",
      "text/plain": [
       "<Figure size 1440x360 with 1 Axes>"
      ]
     },
     "metadata": {
      "needs_background": "light"
     },
     "output_type": "display_data"
    }
   ],
   "source": [
    "boxplt('speed')"
   ]
  },
  {
   "cell_type": "code",
   "execution_count": 59,
   "metadata": {
    "scrolled": true
   },
   "outputs": [
    {
     "data": {
      "image/png": "[encoded data removed]",
      "text/plain": [
       "<Figure size 1440x360 with 1 Axes>"
      ]
     },
     "metadata": {
      "needs_background": "light"
     },
     "output_type": "display_data"
    }
   ],
   "source": [
    "boxplt('Trip_Duration')"
   ]
  },
  {
   "cell_type": "code",
   "execution_count": 415,
   "metadata": {
    "scrolled": false
   },
   "outputs": [
    {
     "data": {
      "text/html": [
       "<div>\n",
       "<style scoped>\n",
       "    .dataframe tbody tr th:only-of-type {\n",
       "        vertical-align: middle;\n",
       "    }\n",
       "\n",
       "    .dataframe tbody tr th {\n",
       "        vertical-align: top;\n",
       "    }\n",
       "\n",
       "    .dataframe thead th {\n",
       "        text-align: right;\n",
       "    }\n",
       "</style>\n",
       "<table border=\"1\" class=\"dataframe\">\n",
       "  <thead>\n",
       "    <tr style=\"text-align: right;\">\n",
       "      <th></th>\n",
       "      <th>Pickup_longitude</th>\n",
       "      <th>Pickup_latitude</th>\n",
       "      <th>Dropoff_longitude</th>\n",
       "      <th>Dropoff_latitude</th>\n",
       "      <th>Passenger_count</th>\n",
       "      <th>Trip_distance</th>\n",
       "      <th>Final_Fare_amount</th>\n",
       "      <th>Trip_Duration</th>\n",
       "      <th>month</th>\n",
       "      <th>week</th>\n",
       "      <th>day</th>\n",
       "      <th>hour</th>\n",
       "      <th>New_distance</th>\n",
       "      <th>speed</th>\n",
       "    </tr>\n",
       "  </thead>\n",
       "  <tbody>\n",
       "    <tr>\n",
       "      <th>0</th>\n",
       "      <td>-73.928642</td>\n",
       "      <td>40.680611</td>\n",
       "      <td>-73.924278</td>\n",
       "      <td>40.698044</td>\n",
       "      <td>1</td>\n",
       "      <td>1.46</td>\n",
       "      <td>9.3</td>\n",
       "      <td>612.0</td>\n",
       "      <td>1</td>\n",
       "      <td>53</td>\n",
       "      <td>1</td>\n",
       "      <td>0</td>\n",
       "      <td>1.973094</td>\n",
       "      <td>11.606436</td>\n",
       "    </tr>\n",
       "    <tr>\n",
       "      <th>1</th>\n",
       "      <td>-73.952675</td>\n",
       "      <td>40.723175</td>\n",
       "      <td>-73.923920</td>\n",
       "      <td>40.761379</td>\n",
       "      <td>1</td>\n",
       "      <td>3.56</td>\n",
       "      <td>16.8</td>\n",
       "      <td>1179.0</td>\n",
       "      <td>1</td>\n",
       "      <td>53</td>\n",
       "      <td>1</td>\n",
       "      <td>0</td>\n",
       "      <td>4.890321</td>\n",
       "      <td>14.932278</td>\n",
       "    </tr>\n",
       "  </tbody>\n",
       "</table>\n",
       "</div>"
      ],
      "text/plain": [
       "   Pickup_longitude  Pickup_latitude  Dropoff_longitude  Dropoff_latitude  \\\n",
       "0        -73.928642        40.680611         -73.924278         40.698044   \n",
       "1        -73.952675        40.723175         -73.923920         40.761379   \n",
       "\n",
       "   Passenger_count  Trip_distance  Final_Fare_amount  Trip_Duration  month  \\\n",
       "0                1           1.46                9.3          612.0      1   \n",
       "1                1           3.56               16.8         1179.0      1   \n",
       "\n",
       "   week  day  hour  New_distance      speed  \n",
       "0    53    1     0      1.973094  11.606436  \n",
       "1    53    1     0      4.890321  14.932278  "
      ]
     },
     "execution_count": 415,
     "metadata": {},
     "output_type": "execute_result"
    }
   ],
   "source": [
    "Green_Taxi[:2]"
   ]
  },
  {
   "cell_type": "code",
   "execution_count": 418,
   "metadata": {},
   "outputs": [
    {
     "data": {
      "text/plain": [
       "count    6.777198e+06\n",
       "mean     1.721539e-01\n",
       "std      9.796659e-02\n",
       "min      2.777778e-04\n",
       "25%      9.527778e-02\n",
       "50%      1.508333e-01\n",
       "75%      2.322222e-01\n",
       "max      4.583333e-01\n",
       "Name: Trip_Duration, dtype: float64"
      ]
     },
     "execution_count": 418,
     "metadata": {},
     "output_type": "execute_result"
    }
   ],
   "source": [
    "(Green_Taxi['Trip_Duration']/60/60).describe()"
   ]
  },
  {
   "cell_type": "code",
   "execution_count": 411,
   "metadata": {
    "scrolled": false
   },
   "outputs": [
    {
     "data": {
      "text/plain": [
       "<matplotlib.axes._subplots.AxesSubplot at 0x23ed40ca390>"
      ]
     },
     "execution_count": 411,
     "metadata": {},
     "output_type": "execute_result"
    },
    {
     "data": {
      "image/png": "[encoded data removed]",
      "text/plain": [
       "<Figure size 432x288 with 1 Axes>"
      ]
     },
     "metadata": {
      "needs_background": "light"
     },
     "output_type": "display_data"
    }
   ],
   "source": [
    "sns.scatterplot(x='New_distance',y='Trip_Duration',data=Green_Taxi)\n"
   ]
  },
  {
   "cell_type": "code",
   "execution_count": 423,
   "metadata": {},
   "outputs": [],
   "source": [
    "Green_Taxi['log_New_distance']=np.log(Green_Taxi.New_distance)\n",
    "Green_Taxi['log_Trip_Duration']=np.log(Green_Taxi.Trip_Duration)"
   ]
  },
  {
   "cell_type": "code",
   "execution_count": 60,
   "metadata": {
    "scrolled": true
   },
   "outputs": [
    {
     "data": {
      "text/plain": [
       "<matplotlib.axes._subplots.AxesSubplot at 0x1e2e95366d8>"
      ]
     },
     "execution_count": 60,
     "metadata": {},
     "output_type": "execute_result"
    },
    {
     "data": {
      "image/png": "[encoded data removed]",
      "text/plain": [
       "<Figure size 432x288 with 1 Axes>"
      ]
     },
     "metadata": {
      "needs_background": "light"
     },
     "output_type": "display_data"
    }
   ],
   "source": [
    "sns.scatterplot(x='log_New_distance',y='log_Trip_Duration',data=Green_Taxi)\n"
   ]
  },
  {
   "cell_type": "code",
   "execution_count": null,
   "metadata": {},
   "outputs": [],
   "source": []
  },
  {
   "cell_type": "code",
   "execution_count": 425,
   "metadata": {},
   "outputs": [],
   "source": [
    "Green_Taxi.to_csv(r'E:/Big Data Diploma/Project/Project/New folder/Taxi/Green Taxi/Green_Taxi_B5.csv',index=False)\n"
   ]
  },
  {
   "cell_type": "code",
   "execution_count": 161,
   "metadata": {},
   "outputs": [],
   "source": [
    "def generateBaseMap(default_location=[40.693943, -73.985880], default_zoom_start=12):\n",
    "    base_map = folium.Map(location=default_location, control_scale=True, zoom_start=default_zoom_start)\n",
    "    return base_map\n"
   ]
  },
  {
   "cell_type": "code",
   "execution_count": 419,
   "metadata": {},
   "outputs": [],
   "source": [
    "import folium\n",
    "from folium.plugins import HeatMap\n",
    "df_copy = Green_Taxi[Green_Taxi.month>4].copy()\n",
    "df_copy['count'] = 1\n",
    "data=df_copy[['Pickup_latitude', 'Pickup_longitude', 'count']].groupby(['Pickup_latitude', 'Pickup_longitude']).sum().reset_index().values.tolist()\n"
   ]
  },
  {
   "cell_type": "code",
   "execution_count": 420,
   "metadata": {},
   "outputs": [
    {
     "data": {
      "text/plain": [
       "<folium.plugins.heat_map.HeatMap at 0x23ea7e247f0>"
      ]
     },
     "execution_count": 420,
     "metadata": {},
     "output_type": "execute_result"
    }
   ],
   "source": [
    "base_map = generateBaseMap()\n",
    "HeatMap(data, radius=8, max_zoom=13).add_to(base_map)"
   ]
  },
  {
   "cell_type": "code",
   "execution_count": 421,
   "metadata": {},
   "outputs": [],
   "source": [
    "base_map = base_map.add_child(folium.ClickForMarker(popup='Potential Location'))"
   ]
  },
  {
   "cell_type": "code",
   "execution_count": 422,
   "metadata": {},
   "outputs": [],
   "source": [
    "base_map.save('E:/Big Data Diploma/Project/Project/HeatMap.html')\n"
   ]
  },
  {
   "cell_type": "code",
   "execution_count": 90,
   "metadata": {},
   "outputs": [],
   "source": [
    "df_hour_list = []\n",
    "for hour in df_copy.hour.sort_values().unique():\n",
    "    df_hour_list.append(df_copy.loc[df_copy.hour == hour, ['pickup_latitude', 'pickup_longitude', 'count']].groupby(['pickup_latitude', 'pickup_longitude']).sum().reset_index().values.tolist())\n"
   ]
  },
  {
   "cell_type": "code",
   "execution_count": 91,
   "metadata": {},
   "outputs": [
    {
     "data": {
      "text/plain": [
       "<folium.plugins.heat_map_withtime.HeatMapWithTime at 0x224a20672e8>"
      ]
     },
     "execution_count": 91,
     "metadata": {},
     "output_type": "execute_result"
    }
   ],
   "source": [
    "from folium.plugins import HeatMapWithTime\n",
    "base_map = generateBaseMap(default_zoom_start=11)\n",
    "HeatMapWithTime(df_hour_list, radius=5, gradient={0.2: 'blue', 0.4: 'lime', 0.6: 'orange', 1: 'red'}, min_opacity=0.5, max_opacity=0.8, use_local_extrema=True).add_to(base_map)\n"
   ]
  },
  {
   "cell_type": "code",
   "execution_count": 92,
   "metadata": {},
   "outputs": [],
   "source": [
    "base_map.save('E:/Big Data Diploma/Project/Project/HeatMap2.html')\n"
   ]
  },
  {
   "cell_type": "code",
   "execution_count": null,
   "metadata": {},
   "outputs": [],
   "source": []
  },
  {
   "cell_type": "code",
   "execution_count": null,
   "metadata": {},
   "outputs": [],
   "source": [
    "############  Test Machine Learning"
   ]
  },
  {
   "cell_type": "code",
   "execution_count": 3,
   "metadata": {},
   "outputs": [],
   "source": [
    "location  = \"E:/Big Data Diploma/Project/Project/New folder/Taxi/Green Taxi/\""
   ]
  },
  {
   "cell_type": "code",
   "execution_count": 4,
   "metadata": {},
   "outputs": [],
   "source": [
    "Green_Taxi = pd.read_csv(location+'Green_Taxi_B5.csv')#,date_parser=dateparse)"
   ]
  },
  {
   "cell_type": "code",
   "execution_count": null,
   "metadata": {},
   "outputs": [],
   "source": [
    "#Green_Taxi = Green_Taxi.drop(columns=['lpep_pickup_datetime','Lpep_dropoff_datetime','Payment_type'])\n"
   ]
  },
  {
   "cell_type": "code",
   "execution_count": 5,
   "metadata": {
    "scrolled": false
   },
   "outputs": [
    {
     "data": {
      "text/html": [
       "<div>\n",
       "<style scoped>\n",
       "    .dataframe tbody tr th:only-of-type {\n",
       "        vertical-align: middle;\n",
       "    }\n",
       "\n",
       "    .dataframe tbody tr th {\n",
       "        vertical-align: top;\n",
       "    }\n",
       "\n",
       "    .dataframe thead th {\n",
       "        text-align: right;\n",
       "    }\n",
       "</style>\n",
       "<table border=\"1\" class=\"dataframe\">\n",
       "  <thead>\n",
       "    <tr style=\"text-align: right;\">\n",
       "      <th></th>\n",
       "      <th>Pickup_longitude</th>\n",
       "      <th>Pickup_latitude</th>\n",
       "      <th>Dropoff_longitude</th>\n",
       "      <th>Dropoff_latitude</th>\n",
       "      <th>Passenger_count</th>\n",
       "      <th>Trip_distance</th>\n",
       "      <th>Final_Fare_amount</th>\n",
       "      <th>Trip_Duration</th>\n",
       "      <th>month</th>\n",
       "      <th>week</th>\n",
       "      <th>day</th>\n",
       "      <th>hour</th>\n",
       "      <th>New_distance</th>\n",
       "      <th>speed</th>\n",
       "      <th>log_New_distance</th>\n",
       "      <th>log_Trip_Duration</th>\n",
       "    </tr>\n",
       "  </thead>\n",
       "  <tbody>\n",
       "    <tr>\n",
       "      <th>0</th>\n",
       "      <td>-73.928642</td>\n",
       "      <td>40.680611</td>\n",
       "      <td>-73.924278</td>\n",
       "      <td>40.698044</td>\n",
       "      <td>1</td>\n",
       "      <td>1.46</td>\n",
       "      <td>9.3</td>\n",
       "      <td>612.0</td>\n",
       "      <td>1</td>\n",
       "      <td>53</td>\n",
       "      <td>1</td>\n",
       "      <td>0</td>\n",
       "      <td>1.973094</td>\n",
       "      <td>11.606436</td>\n",
       "      <td>0.679603</td>\n",
       "      <td>6.416732</td>\n",
       "    </tr>\n",
       "    <tr>\n",
       "      <th>1</th>\n",
       "      <td>-73.952675</td>\n",
       "      <td>40.723175</td>\n",
       "      <td>-73.923920</td>\n",
       "      <td>40.761379</td>\n",
       "      <td>1</td>\n",
       "      <td>3.56</td>\n",
       "      <td>16.8</td>\n",
       "      <td>1179.0</td>\n",
       "      <td>1</td>\n",
       "      <td>53</td>\n",
       "      <td>1</td>\n",
       "      <td>0</td>\n",
       "      <td>4.890321</td>\n",
       "      <td>14.932278</td>\n",
       "      <td>1.587258</td>\n",
       "      <td>7.072422</td>\n",
       "    </tr>\n",
       "  </tbody>\n",
       "</table>\n",
       "</div>"
      ],
      "text/plain": [
       "   Pickup_longitude  Pickup_latitude  Dropoff_longitude  Dropoff_latitude  \\\n",
       "0        -73.928642        40.680611         -73.924278         40.698044   \n",
       "1        -73.952675        40.723175         -73.923920         40.761379   \n",
       "\n",
       "   Passenger_count  Trip_distance  Final_Fare_amount  Trip_Duration  month  \\\n",
       "0                1           1.46                9.3          612.0      1   \n",
       "1                1           3.56               16.8         1179.0      1   \n",
       "\n",
       "   week  day  hour  New_distance      speed  log_New_distance  \\\n",
       "0    53    1     0      1.973094  11.606436          0.679603   \n",
       "1    53    1     0      4.890321  14.932278          1.587258   \n",
       "\n",
       "   log_Trip_Duration  \n",
       "0           6.416732  \n",
       "1           7.072422  "
      ]
     },
     "execution_count": 5,
     "metadata": {},
     "output_type": "execute_result"
    }
   ],
   "source": [
    "Green_Taxi[:2]"
   ]
  },
  {
   "cell_type": "code",
   "execution_count": 171,
   "metadata": {
    "scrolled": false
   },
   "outputs": [
    {
     "data": {
      "image/png": "[encoded data removed]",
      "text/plain": [
       "<Figure size 432x288 with 1 Axes>"
      ]
     },
     "metadata": {
      "needs_background": "light"
     },
     "output_type": "display_data"
    }
   ],
   "source": [
    "Green_Taxi.plot(x='Pickup_latitude', y='Dropoff_latitude', style='o')  \n",
    "plt.title('Pickup_latitude vs Dropoff_latitude')  \n",
    "plt.xlabel('Pickup_latitude')  \n",
    "plt.ylabel('Dropoff_latitude')  \n",
    "plt.show()\n"
   ]
  },
  {
   "cell_type": "code",
   "execution_count": 426,
   "metadata": {},
   "outputs": [
    {
     "data": {
      "text/html": [
       "<div>\n",
       "<style scoped>\n",
       "    .dataframe tbody tr th:only-of-type {\n",
       "        vertical-align: middle;\n",
       "    }\n",
       "\n",
       "    .dataframe tbody tr th {\n",
       "        vertical-align: top;\n",
       "    }\n",
       "\n",
       "    .dataframe thead th {\n",
       "        text-align: right;\n",
       "    }\n",
       "</style>\n",
       "<table border=\"1\" class=\"dataframe\">\n",
       "  <thead>\n",
       "    <tr style=\"text-align: right;\">\n",
       "      <th></th>\n",
       "      <th>Pickup_longitude</th>\n",
       "      <th>Pickup_latitude</th>\n",
       "      <th>Dropoff_longitude</th>\n",
       "      <th>Dropoff_latitude</th>\n",
       "      <th>Passenger_count</th>\n",
       "      <th>Trip_distance</th>\n",
       "      <th>Final_Fare_amount</th>\n",
       "      <th>Trip_Duration</th>\n",
       "      <th>month</th>\n",
       "      <th>week</th>\n",
       "      <th>day</th>\n",
       "      <th>hour</th>\n",
       "      <th>New_distance</th>\n",
       "      <th>speed</th>\n",
       "      <th>log_New_distance</th>\n",
       "      <th>log_Trip_Duration</th>\n",
       "    </tr>\n",
       "  </thead>\n",
       "  <tbody>\n",
       "    <tr>\n",
       "      <th>0</th>\n",
       "      <td>-73.928642</td>\n",
       "      <td>40.680611</td>\n",
       "      <td>-73.924278</td>\n",
       "      <td>40.698044</td>\n",
       "      <td>1</td>\n",
       "      <td>1.46</td>\n",
       "      <td>9.3</td>\n",
       "      <td>612.0</td>\n",
       "      <td>1</td>\n",
       "      <td>53</td>\n",
       "      <td>1</td>\n",
       "      <td>0</td>\n",
       "      <td>1.973094</td>\n",
       "      <td>11.606436</td>\n",
       "      <td>0.679603</td>\n",
       "      <td>6.416732</td>\n",
       "    </tr>\n",
       "    <tr>\n",
       "      <th>1</th>\n",
       "      <td>-73.952675</td>\n",
       "      <td>40.723175</td>\n",
       "      <td>-73.923920</td>\n",
       "      <td>40.761379</td>\n",
       "      <td>1</td>\n",
       "      <td>3.56</td>\n",
       "      <td>16.8</td>\n",
       "      <td>1179.0</td>\n",
       "      <td>1</td>\n",
       "      <td>53</td>\n",
       "      <td>1</td>\n",
       "      <td>0</td>\n",
       "      <td>4.890321</td>\n",
       "      <td>14.932278</td>\n",
       "      <td>1.587258</td>\n",
       "      <td>7.072422</td>\n",
       "    </tr>\n",
       "  </tbody>\n",
       "</table>\n",
       "</div>"
      ],
      "text/plain": [
       "   Pickup_longitude  Pickup_latitude  Dropoff_longitude  Dropoff_latitude  \\\n",
       "0        -73.928642        40.680611         -73.924278         40.698044   \n",
       "1        -73.952675        40.723175         -73.923920         40.761379   \n",
       "\n",
       "   Passenger_count  Trip_distance  Final_Fare_amount  Trip_Duration  month  \\\n",
       "0                1           1.46                9.3          612.0      1   \n",
       "1                1           3.56               16.8         1179.0      1   \n",
       "\n",
       "   week  day  hour  New_distance      speed  log_New_distance  \\\n",
       "0    53    1     0      1.973094  11.606436          0.679603   \n",
       "1    53    1     0      4.890321  14.932278          1.587258   \n",
       "\n",
       "   log_Trip_Duration  \n",
       "0           6.416732  \n",
       "1           7.072422  "
      ]
     },
     "execution_count": 426,
     "metadata": {},
     "output_type": "execute_result"
    }
   ],
   "source": [
    "Green_Taxi[:2]"
   ]
  },
  {
   "cell_type": "code",
   "execution_count": 8,
   "metadata": {},
   "outputs": [],
   "source": [
    "# There are several machine learning models that we would like to create.\n",
    "# one to predict the distance\n",
    "# one to predict the Final_Fare_amount\n",
    "# one to predict the Trip_Duration\n",
    "\n",
    "# To increase accuracy, we will provide the user predictions based on the nearest let the user coordinates \n",
    "\n",
    "\n",
    "\n",
    "#feature_names = ['Pickup_longitude','Pickup_latitude','Dropoff_longitude','Dropoff_latitude','Trip_distance','speed','log_New_distance','log_Trip_Duration','month','week','day','hour']\n",
    "feature_names = ['Pickup_longitude','Pickup_latitude','Dropoff_longitude','Dropoff_latitude','New_distance','log_New_distance','month','week','day','hour']\n",
    "\n",
    "X = Green_Taxi[feature_names]#.values.reshape(-1,1)\n",
    "y = Green_Taxi['Trip_Duration']\n"
   ]
  },
  {
   "cell_type": "code",
   "execution_count": null,
   "metadata": {},
   "outputs": [],
   "source": [
    "# https://www.kaggle.com/nitin194/nyc-taxi-trip-duration-prediction\n",
    "# We can use other ways to do feature engineering like the Pvalues\n"
   ]
  },
  {
   "cell_type": "code",
   "execution_count": 528,
   "metadata": {},
   "outputs": [
    {
     "data": {
      "text/html": [
       "<div>\n",
       "<style scoped>\n",
       "    .dataframe tbody tr th:only-of-type {\n",
       "        vertical-align: middle;\n",
       "    }\n",
       "\n",
       "    .dataframe tbody tr th {\n",
       "        vertical-align: top;\n",
       "    }\n",
       "\n",
       "    .dataframe thead th {\n",
       "        text-align: right;\n",
       "    }\n",
       "</style>\n",
       "<table border=\"1\" class=\"dataframe\">\n",
       "  <thead>\n",
       "    <tr style=\"text-align: right;\">\n",
       "      <th></th>\n",
       "      <th>Pickup_longitude</th>\n",
       "      <th>Pickup_latitude</th>\n",
       "      <th>Dropoff_longitude</th>\n",
       "      <th>Dropoff_latitude</th>\n",
       "      <th>New_distance</th>\n",
       "      <th>log_New_distance</th>\n",
       "      <th>month</th>\n",
       "      <th>week</th>\n",
       "      <th>day</th>\n",
       "      <th>hour</th>\n",
       "    </tr>\n",
       "  </thead>\n",
       "  <tbody>\n",
       "    <tr>\n",
       "      <th>0</th>\n",
       "      <td>-73.928642</td>\n",
       "      <td>40.680611</td>\n",
       "      <td>-73.924278</td>\n",
       "      <td>40.698044</td>\n",
       "      <td>1.973094</td>\n",
       "      <td>0.679603</td>\n",
       "      <td>1</td>\n",
       "      <td>53</td>\n",
       "      <td>1</td>\n",
       "      <td>0</td>\n",
       "    </tr>\n",
       "    <tr>\n",
       "      <th>1</th>\n",
       "      <td>-73.952675</td>\n",
       "      <td>40.723175</td>\n",
       "      <td>-73.923920</td>\n",
       "      <td>40.761379</td>\n",
       "      <td>4.890321</td>\n",
       "      <td>1.587258</td>\n",
       "      <td>1</td>\n",
       "      <td>53</td>\n",
       "      <td>1</td>\n",
       "      <td>0</td>\n",
       "    </tr>\n",
       "  </tbody>\n",
       "</table>\n",
       "</div>"
      ],
      "text/plain": [
       "   Pickup_longitude  Pickup_latitude  Dropoff_longitude  Dropoff_latitude  \\\n",
       "0        -73.928642        40.680611         -73.924278         40.698044   \n",
       "1        -73.952675        40.723175         -73.923920         40.761379   \n",
       "\n",
       "   New_distance  log_New_distance  month  week  day  hour  \n",
       "0      1.973094          0.679603      1    53    1     0  \n",
       "1      4.890321          1.587258      1    53    1     0  "
      ]
     },
     "execution_count": 528,
     "metadata": {},
     "output_type": "execute_result"
    }
   ],
   "source": [
    "X[:2]"
   ]
  },
  {
   "cell_type": "code",
   "execution_count": 9,
   "metadata": {},
   "outputs": [],
   "source": [
    "import statsmodels.formula.api as sm\n",
    "regressor_OLS = sm.OLS(endog = y, exog = X).fit()\n"
   ]
  },
  {
   "cell_type": "code",
   "execution_count": 11,
   "metadata": {},
   "outputs": [],
   "source": [
    "#Fetch p values for each feature\n",
    "p_Vals = regressor_OLS.pvalues\n",
    "\n",
    "#define significance level for accepting the feature.\n",
    "sig_Level = 0.05\n"
   ]
  },
  {
   "cell_type": "code",
   "execution_count": 23,
   "metadata": {
    "scrolled": true
   },
   "outputs": [
    {
     "name": "stdout",
     "output_type": "stream",
     "text": [
      "no\n",
      "Final stat summary with optimal features\n"
     ]
    },
    {
     "data": {
      "text/html": [
       "<table class=\"simpletable\">\n",
       "<caption>OLS Regression Results</caption>\n",
       "<tr>\n",
       "  <th>Dep. Variable:</th>      <td>Trip_Duration</td>  <th>  R-squared:         </th>  <td>   0.914</td>  \n",
       "</tr>\n",
       "<tr>\n",
       "  <th>Model:</th>                   <td>OLS</td>       <th>  Adj. R-squared:    </th>  <td>   0.914</td>  \n",
       "</tr>\n",
       "<tr>\n",
       "  <th>Method:</th>             <td>Least Squares</td>  <th>  F-statistic:       </th>  <td>7.226e+06</td> \n",
       "</tr>\n",
       "<tr>\n",
       "  <th>Date:</th>             <td>Sat, 04 Jan 2020</td> <th>  Prob (F-statistic):</th>   <td>  0.00</td>   \n",
       "</tr>\n",
       "<tr>\n",
       "  <th>Time:</th>                 <td>00:16:32</td>     <th>  Log-Likelihood:    </th> <td>-4.5816e+07</td>\n",
       "</tr>\n",
       "<tr>\n",
       "  <th>No. Observations:</th>      <td>6777198</td>     <th>  AIC:               </th>  <td>9.163e+07</td> \n",
       "</tr>\n",
       "<tr>\n",
       "  <th>Df Residuals:</th>          <td>6777188</td>     <th>  BIC:               </th>  <td>9.163e+07</td> \n",
       "</tr>\n",
       "<tr>\n",
       "  <th>Df Model:</th>              <td>    10</td>      <th>                     </th>      <td> </td>     \n",
       "</tr>\n",
       "<tr>\n",
       "  <th>Covariance Type:</th>      <td>nonrobust</td>    <th>                     </th>      <td> </td>     \n",
       "</tr>\n",
       "</table>\n",
       "<table class=\"simpletable\">\n",
       "<tr>\n",
       "          <td></td>             <th>coef</th>     <th>std err</th>      <th>t</th>      <th>P>|t|</th>  <th>[0.025</th>    <th>0.975]</th>  \n",
       "</tr>\n",
       "<tr>\n",
       "  <th>Pickup_longitude</th>  <td>  425.7984</td> <td>    3.602</td> <td>  118.215</td> <td> 0.000</td> <td>  418.739</td> <td>  432.858</td>\n",
       "</tr>\n",
       "<tr>\n",
       "  <th>Pickup_latitude</th>   <td> -341.5240</td> <td>    4.168</td> <td>  -81.948</td> <td> 0.000</td> <td> -349.692</td> <td> -333.356</td>\n",
       "</tr>\n",
       "<tr>\n",
       "  <th>Dropoff_longitude</th> <td> -447.4861</td> <td>    3.603</td> <td> -124.213</td> <td> 0.000</td> <td> -454.547</td> <td> -440.425</td>\n",
       "</tr>\n",
       "<tr>\n",
       "  <th>Dropoff_latitude</th>  <td>  306.9132</td> <td>    4.163</td> <td>   73.720</td> <td> 0.000</td> <td>  298.753</td> <td>  315.073</td>\n",
       "</tr>\n",
       "<tr>\n",
       "  <th>New_distance</th>      <td>  132.8500</td> <td>    0.118</td> <td> 1125.013</td> <td> 0.000</td> <td>  132.619</td> <td>  133.081</td>\n",
       "</tr>\n",
       "<tr>\n",
       "  <th>log_New_distance</th>  <td>  106.2039</td> <td>    0.262</td> <td>  405.718</td> <td> 0.000</td> <td>  105.691</td> <td>  106.717</td>\n",
       "</tr>\n",
       "<tr>\n",
       "  <th>month</th>             <td>    6.5500</td> <td>    0.064</td> <td>  101.580</td> <td> 0.000</td> <td>    6.424</td> <td>    6.676</td>\n",
       "</tr>\n",
       "<tr>\n",
       "  <th>week</th>              <td>   -0.7401</td> <td>    0.012</td> <td>  -60.261</td> <td> 0.000</td> <td>   -0.764</td> <td>   -0.716</td>\n",
       "</tr>\n",
       "<tr>\n",
       "  <th>day</th>               <td>    0.1348</td> <td>    0.009</td> <td>   14.700</td> <td> 0.000</td> <td>    0.117</td> <td>    0.153</td>\n",
       "</tr>\n",
       "<tr>\n",
       "  <th>hour</th>              <td>    1.8772</td> <td>    0.012</td> <td>  154.875</td> <td> 0.000</td> <td>    1.853</td> <td>    1.901</td>\n",
       "</tr>\n",
       "</table>\n",
       "<table class=\"simpletable\">\n",
       "<tr>\n",
       "  <th>Omnibus:</th>       <td>1702326.730</td> <th>  Durbin-Watson:     </th>  <td>   1.733</td>  \n",
       "</tr>\n",
       "<tr>\n",
       "  <th>Prob(Omnibus):</th>   <td> 0.000</td>    <th>  Jarque-Bera (JB):  </th> <td>4822248.190</td>\n",
       "</tr>\n",
       "<tr>\n",
       "  <th>Skew:</th>            <td> 1.327</td>    <th>  Prob(JB):          </th>  <td>    0.00</td>  \n",
       "</tr>\n",
       "<tr>\n",
       "  <th>Kurtosis:</th>        <td> 6.167</td>    <th>  Cond. No.          </th>  <td>9.11e+03</td>  \n",
       "</tr>\n",
       "</table><br/><br/>Warnings:<br/>[1] Standard Errors assume that the covariance matrix of the errors is correctly specified.<br/>[2] The condition number is large, 9.11e+03. This might indicate that there are<br/>strong multicollinearity or other numerical problems."
      ],
      "text/plain": [
       "<class 'statsmodels.iolib.summary.Summary'>\n",
       "\"\"\"\n",
       "                            OLS Regression Results                            \n",
       "==============================================================================\n",
       "Dep. Variable:          Trip_Duration   R-squared:                       0.914\n",
       "Model:                            OLS   Adj. R-squared:                  0.914\n",
       "Method:                 Least Squares   F-statistic:                 7.226e+06\n",
       "Date:                Sat, 04 Jan 2020   Prob (F-statistic):               0.00\n",
       "Time:                        00:16:32   Log-Likelihood:            -4.5816e+07\n",
       "No. Observations:             6777198   AIC:                         9.163e+07\n",
       "Df Residuals:                 6777188   BIC:                         9.163e+07\n",
       "Df Model:                          10                                         \n",
       "Covariance Type:            nonrobust                                         \n",
       "=====================================================================================\n",
       "                        coef    std err          t      P>|t|      [0.025      0.975]\n",
       "-------------------------------------------------------------------------------------\n",
       "Pickup_longitude    425.7984      3.602    118.215      0.000     418.739     432.858\n",
       "Pickup_latitude    -341.5240      4.168    -81.948      0.000    -349.692    -333.356\n",
       "Dropoff_longitude  -447.4861      3.603   -124.213      0.000    -454.547    -440.425\n",
       "Dropoff_latitude    306.9132      4.163     73.720      0.000     298.753     315.073\n",
       "New_distance        132.8500      0.118   1125.013      0.000     132.619     133.081\n",
       "log_New_distance    106.2039      0.262    405.718      0.000     105.691     106.717\n",
       "month                 6.5500      0.064    101.580      0.000       6.424       6.676\n",
       "week                 -0.7401      0.012    -60.261      0.000      -0.764      -0.716\n",
       "day                   0.1348      0.009     14.700      0.000       0.117       0.153\n",
       "hour                  1.8772      0.012    154.875      0.000       1.853       1.901\n",
       "==============================================================================\n",
       "Omnibus:                  1702326.730   Durbin-Watson:                   1.733\n",
       "Prob(Omnibus):                  0.000   Jarque-Bera (JB):          4822248.190\n",
       "Skew:                           1.327   Prob(JB):                         0.00\n",
       "Kurtosis:                       6.167   Cond. No.                     9.11e+03\n",
       "==============================================================================\n",
       "\n",
       "Warnings:\n",
       "[1] Standard Errors assume that the covariance matrix of the errors is correctly specified.\n",
       "[2] The condition number is large, 9.11e+03. This might indicate that there are\n",
       "strong multicollinearity or other numerical problems.\n",
       "\"\"\""
      ]
     },
     "execution_count": 23,
     "metadata": {},
     "output_type": "execute_result"
    }
   ],
   "source": [
    "### https://www.kaggle.com/nitin194/nyc-taxi-trip-duration-prediction\n",
    "### Very important to read as the X_opt will be later used with the below command\n",
    "### X_train_fs, X_test_fs, y_train_fs, y_test_fs = train_test_split(X_opt,Y, random_state=4, test_size=0.2)\n",
    "\n",
    "#Loop to iterate over features and remove the feature with p value less than the sig_level\n",
    "while max(p_Vals) > sig_Level:\n",
    "    print(\"Probability values of each feature \\n\")\n",
    "    print(p_Vals)\n",
    "    X_opt = np.delete(X_opt, np.argmax(p_Vals), axis = 1)\n",
    "    print(\"\\n\")\n",
    "    print(\"Feature at index {} is removed \\n\".format(str(np.argmax(p_Vals))))\n",
    "    print(str(X_opt.shape[1]-1) + \" dimensions remaining now... \\n\")\n",
    "    regressor_OLS = sm.OLS(endog = Y, exog = X_opt).fit()\n",
    "    p_Vals = regressor_OLS.pvalues\n",
    "    print(\"=================================================================\\n\")\n",
    "else:\n",
    "    print ('no Feature index removed')\n",
    "    \n",
    "print(\"Final stat summary with optimal features\")\n",
    "regressor_OLS.summary()\n"
   ]
  },
  {
   "cell_type": "code",
   "execution_count": 24,
   "metadata": {},
   "outputs": [],
   "source": [
    "#Finally we have reached the combination of optimum features with each feature having p value < 0.05.\n"
   ]
  },
  {
   "cell_type": "code",
   "execution_count": 42,
   "metadata": {},
   "outputs": [
    {
     "name": "stderr",
     "output_type": "stream",
     "text": [
      "C:\\Users\\User\\Anaconda3\\lib\\site-packages\\sklearn\\preprocessing\\data.py:323: DataConversionWarning: Data with input dtype int64, float64 were all converted to float64 by MinMaxScaler.\n",
      "  return self.partial_fit(X, y)\n",
      "C:\\Users\\User\\Anaconda3\\lib\\site-packages\\sklearn\\preprocessing\\data.py:323: DataConversionWarning: Data with input dtype int64, float64 were all converted to float64 by MinMaxScaler.\n",
      "  return self.partial_fit(X, y)\n"
     ]
    }
   ],
   "source": [
    "from sklearn.preprocessing import MinMaxScaler\n",
    "# Splitting the normal features\n",
    "from sklearn.model_selection import train_test_split\n",
    "X_train, X_test, y_train, y_test = train_test_split(X, y, test_size=0.2, random_state=0)\n",
    "\n",
    "scaler = MinMaxScaler()\n",
    "X_train = scaler.fit_transform(X_train)\n",
    "X_test = scaler.fit_transform(X_test)\n"
   ]
  },
  {
   "cell_type": "code",
   "execution_count": null,
   "metadata": {},
   "outputs": [],
   "source": [
    "# Principal Component Analysis"
   ]
  },
  {
   "cell_type": "code",
   "execution_count": 26,
   "metadata": {},
   "outputs": [],
   "source": [
    "#Split Data\n",
    "#Lets split our data first before scaling the features\n",
    "\n",
    "from sklearn.model_selection import train_test_split\n",
    "X_train_pca, X_test_pca, y_train_pca, y_test_pca = train_test_split(X,y, random_state=4, test_size=0.2)"
   ]
  },
  {
   "cell_type": "code",
   "execution_count": 38,
   "metadata": {},
   "outputs": [],
   "source": []
  },
  {
   "cell_type": "code",
   "execution_count": 31,
   "metadata": {},
   "outputs": [],
   "source": [
    "#Scale Data\n",
    "#It is suggested to scale the input varibles first before applying PCA to standardise\n",
    "#the variance and avoid the bias. Lets Scale the data using StandardScaler.\n",
    "\n",
    "from sklearn.preprocessing import StandardScaler\n",
    "scaler = StandardScaler()\n",
    "X_train_pca = scaler.fit_transform(X_train_pca)\n",
    "X_test_pca = scaler.transform(X_test_pca)"
   ]
  },
  {
   "cell_type": "code",
   "execution_count": 33,
   "metadata": {
    "scrolled": false
   },
   "outputs": [
    {
     "data": {
      "image/png": "[encoded data removed]",
      "text/plain": [
       "<Figure size 432x288 with 1 Axes>"
      ]
     },
     "metadata": {
      "needs_background": "light"
     },
     "output_type": "display_data"
    }
   ],
   "source": [
    "#PCA application\n",
    "#Let's apply PCA technique on the training features to understand how many principal components\n",
    "#should we select for our model to capture atleast 90% variance. For that we will take help of plot and cumsum function of numpy package.\n",
    "\n",
    "from sklearn.decomposition import PCA\n",
    "pca = PCA().fit(X_train_pca)\n",
    "plt.plot(np.cumsum(pca.explained_variance_ratio_))\n",
    "plt.xlabel(\"number of components\")\n",
    "plt.ylabel(\"Cumulative explained variance\")\n",
    "plt.show()\n"
   ]
  },
  {
   "cell_type": "code",
   "execution_count": 34,
   "metadata": {},
   "outputs": [
    {
     "data": {
      "text/plain": [
       "[(1, 29.69),\n",
       " (2, 48.81),\n",
       " (3, 65.5),\n",
       " (4, 75.58),\n",
       " (5, 85.53),\n",
       " (6, 95.27),\n",
       " (7, 98.55),\n",
       " (8, 99.5),\n",
       " (9, 99.96)]"
      ]
     },
     "execution_count": 34,
     "metadata": {},
     "output_type": "execute_result"
    }
   ],
   "source": [
    "arr = np.cumsum(np.round(pca.explained_variance_ratio_, decimals=4)*100)\n",
    "list(zip(range(1,len(arr)), arr))\n"
   ]
  },
  {
   "cell_type": "code",
   "execution_count": 35,
   "metadata": {},
   "outputs": [],
   "source": [
    "pca_9 = PCA(n_components=9)\n",
    "X_train_pca = pca_9.fit_transform(X_train_pca)\n",
    "X_test_pca = pca_9.transform(X_test_pca)\n"
   ]
  },
  {
   "cell_type": "code",
   "execution_count": 36,
   "metadata": {},
   "outputs": [],
   "source": [
    "#Correlation Analysis\n",
    "#Correlation analysis is a method of statistical evaluation used to study the strength of a relationship between two or more, numerically measured, continuous variables. This analysis is useful when we need to check if there are possible connections between variables. We will utilize Heatmap for our analysis.\n"
   ]
  },
  {
   "cell_type": "code",
   "execution_count": 44,
   "metadata": {
    "scrolled": true
   },
   "outputs": [
    {
     "data": {
      "image/png": "[encoded data removed]",
      "text/plain": [
       "<Figure size 1080x1080 with 2 Axes>"
      ]
     },
     "metadata": {
      "needs_background": "light"
     },
     "output_type": "display_data"
    }
   ],
   "source": [
    "#Heatmap\n",
    "#A heatmap is a graphical representation of data that uses a system of color-coding to represent statistical relationship \n",
    "#between different values.\n",
    "#Let's plot the relationship between the features of the Feature selection group first\n",
    "\n",
    "plt.figure(figsize=(15,15))\n",
    "corr = pd.DataFrame(X_train[:,1:]).corr()\n",
    "corr.index = pd.DataFrame(X_train[:,1:]).columns\n",
    "sns.heatmap(corr, cmap='RdYlGn', vmin=-1, vmax=1, square=True)\n",
    "plt.title(\"Correlation Heatmap\", fontsize=16)\n",
    "plt.show()\n"
   ]
  },
  {
   "cell_type": "code",
   "execution_count": 47,
   "metadata": {
    "scrolled": true
   },
   "outputs": [
    {
     "data": {
      "image/png": "[encoded data removed]",
      "text/plain": [
       "<Figure size 1080x1080 with 2 Axes>"
      ]
     },
     "metadata": {
      "needs_background": "light"
     },
     "output_type": "display_data"
    }
   ],
   "source": [
    "plt.figure(figsize=(15,15))\n",
    "corr = pd.DataFrame(X_train_pca).corr()\n",
    "corr.index = pd.DataFrame(X_train_pca).columns\n",
    "sns.heatmap(corr, cmap='RdYlGn', vmin=-1, vmax=1, square=True)\n",
    "plt.title(\"Correlation Heatmap\", fontsize=16)\n",
    "plt.show()\n"
   ]
  },
  {
   "cell_type": "code",
   "execution_count": 512,
   "metadata": {},
   "outputs": [],
   "source": []
  },
  {
   "cell_type": "code",
   "execution_count": null,
   "metadata": {},
   "outputs": [],
   "source": [
    "# Plan before I sleep, To predict the Trip_distance from the coordinates\n",
    "# then predict Trip_Duration & The amount\n",
    "from sklearn.linear_model import LinearRegression\n",
    "\n",
    "regressor = LinearRegression()\n",
    "regressor.fit(X_train, y_train)"
   ]
  },
  {
   "cell_type": "code",
   "execution_count": 48,
   "metadata": {},
   "outputs": [
    {
     "data": {
      "text/plain": [
       "LinearRegression(copy_X=True, fit_intercept=True, n_jobs=None,\n",
       "         normalize=False)"
      ]
     },
     "execution_count": 48,
     "metadata": {},
     "output_type": "execute_result"
    }
   ],
   "source": [
    "#Linear regressor for the Feature extraction group\n",
    "regressor2 = LinearRegression() \n",
    "regressor2.fit(X_train_pca,y_train_pca)"
   ]
  },
  {
   "cell_type": "code",
   "execution_count": null,
   "metadata": {},
   "outputs": [],
   "source": []
  },
  {
   "cell_type": "code",
   "execution_count": 53,
   "metadata": {},
   "outputs": [],
   "source": [
    "y_pred = regressor.predict(X_test)\n",
    "y_pred_pca = regressor2.predict(X_test_pca) \n"
   ]
  },
  {
   "cell_type": "code",
   "execution_count": 66,
   "metadata": {},
   "outputs": [
    {
     "name": "stdout",
     "output_type": "stream",
     "text": [
      "Mean Absolute Error: 268.78465248406417\n",
      "Mean Squared Error: 112697.72051950953\n",
      "RMSE score for the Multiple LR raw is : 335.70481158230297\n",
      "Variance score for the Multiple LR raw is : 0.09\n",
      "\n",
      "\n",
      "Mean Absolute Error: 154.49282427181743\n",
      "Mean Squared Error: 43663.78078624522\n",
      "RMSE score for the Multiple LR PCA is : 208.95880164818428\n",
      "Variance score for the Multiple LR PCA is : 0.65\n",
      "\n",
      "\n"
     ]
    }
   ],
   "source": [
    "from sklearn import metrics\n",
    "#Evaluate the regressor on the raw data\n",
    "print('Mean Absolute Error:', metrics.mean_absolute_error(y_test, y_pred))\n",
    "print('Mean Squared Error:', metrics.mean_squared_error(y_test, y_pred))\n",
    "print('RMSE score for the Multiple LR raw is : {}'.format(np.sqrt(metrics.mean_squared_error(y_test,y_pred))))\n",
    "print('Variance score for the Multiple LR raw is : %.2f' % regressor.score(X_test, y_test))\n",
    "print(\"\\n\")\n",
    "\n",
    "#Evaluate the regressor on the Feature extraction group\n",
    "print('Mean Absolute Error:', metrics.mean_absolute_error(y_test_pca,y_pred_pca))\n",
    "print('Mean Squared Error:', metrics.mean_squared_error(y_test_pca,y_pred_pca))\n",
    "print('RMSE score for the Multiple LR PCA is : {}'.format(np.sqrt(metrics.mean_squared_error(y_test_pca,y_pred_pca))))\n",
    "print('Variance score for the Multiple LR PCA is : %.2f' % regressor2.score(X_test_pca, y_test_pca))\n",
    "print(\"\\n\")"
   ]
  },
  {
   "cell_type": "markdown",
   "metadata": {},
   "source": [
    " "
   ]
  },
  {
   "cell_type": "markdown",
   "metadata": {},
   "source": [
    "<B>We will now try to improve our accuraccy:</B>\n",
    "    <br>1. Cross Validation\n",
    "    <br>2. Grid Search\n",
    "    <br>3. Different algorithms\n",
    "    <br>4. Ensemble learning\n"
   ]
  },
  {
   "cell_type": "code",
   "execution_count": 497,
   "metadata": {},
   "outputs": [],
   "source": [
    "#### Try Cross Validation also try different Grid Search, Different algorithms, Ensumbled learning"
   ]
  },
  {
   "cell_type": "code",
   "execution_count": 75,
   "metadata": {},
   "outputs": [],
   "source": [
    "from sklearn.linear_model import RidgeCV\n",
    "regressor = RidgeCV(alphas=[0.01,0.1,1, 1e3, 1e6], store_cv_values=True)\n",
    "regressor2 = RidgeCV(alphas=[0.01,0.1,1, 1e3, 1e6], store_cv_values=True)\n"
   ]
  },
  {
   "cell_type": "code",
   "execution_count": 76,
   "metadata": {
    "scrolled": true
   },
   "outputs": [
    {
     "data": {
      "text/plain": [
       "RidgeCV(alphas=array([1.e-02, 1.e-01, 1.e+00, 1.e+03, 1.e+06]), cv=None,\n",
       "    fit_intercept=True, gcv_mode=None, normalize=False, scoring=None,\n",
       "    store_cv_values=True)"
      ]
     },
     "execution_count": 76,
     "metadata": {},
     "output_type": "execute_result"
    }
   ],
   "source": [
    "regressor.fit(X_train, y_train)\n",
    "regressor2.fit(X_test_pca, y_test_pca)\n"
   ]
  },
  {
   "cell_type": "code",
   "execution_count": 77,
   "metadata": {},
   "outputs": [
    {
     "name": "stdout",
     "output_type": "stream",
     "text": [
      "0.01\n",
      "1.0\n"
     ]
    }
   ],
   "source": [
    "# Best alpha\n",
    "print(regressor.alpha_)\n",
    "print(regressor2.alpha_)"
   ]
  },
  {
   "cell_type": "code",
   "execution_count": 78,
   "metadata": {
    "scrolled": true
   },
   "outputs": [
    {
     "name": "stdout",
     "output_type": "stream",
     "text": [
      "Mean Squared Error: [ 43413.68008454  43415.61734184  43456.23966037  43629.69157105\n",
      " 107736.15215022]\n",
      "Mean Squared Error: [43664.63173943 43664.63173926 43664.63173765 43664.70420398\n",
      " 50563.55725352]\n"
     ]
    }
   ],
   "source": [
    "cv_mse_R = np.mean(regressor.cv_values_, axis=0)\n",
    "print('Mean Squared Error:', cv_mse_R)\n",
    "\n",
    "cv_mse_PCA = np.mean(regressor2.cv_values_, axis=0)\n",
    "print('Mean Squared Error:', cv_mse_PCA)\n"
   ]
  },
  {
   "cell_type": "code",
   "execution_count": null,
   "metadata": {},
   "outputs": [],
   "source": []
  },
  {
   "cell_type": "code",
   "execution_count": 80,
   "metadata": {
    "scrolled": true
   },
   "outputs": [
    {
     "name": "stdout",
     "output_type": "stream",
     "text": [
      "Root Mean Squared Error: [208.35949723 208.36414601 208.46160236 208.8772165  328.23185731]\n",
      "Root Mean Squared Error PCA: [208.96083781 208.96083781 208.96083781 208.96101121 224.86341911]\n"
     ]
    }
   ],
   "source": [
    "print('Root Mean Squared Error:', np.sqrt(cv_mse_R))\n",
    "print('Root Mean Squared Error PCA:', np.sqrt(cv_mse_PCA))\n"
   ]
  },
  {
   "cell_type": "code",
   "execution_count": null,
   "metadata": {},
   "outputs": [],
   "source": [
    "predict_y = regressor.predict(X_test)\n"
   ]
  },
  {
   "cell_type": "code",
   "execution_count": null,
   "metadata": {},
   "outputs": [],
   "source": []
  },
  {
   "cell_type": "markdown",
   "metadata": {},
   "source": [
    "<br>\n",
    "<b>Let's try to use GridSearch to tune the hyperparameters of random forest regressor to get the best possible test score.<br><br>"
   ]
  },
  {
   "cell_type": "code",
   "execution_count": null,
   "metadata": {},
   "outputs": [],
   "source": [
    "regressor.fit(X_train, y_train)\n",
    "regressor2.fit(X_test_pca, y_test_pca)\n"
   ]
  },
  {
   "cell_type": "code",
   "execution_count": 89,
   "metadata": {
    "scrolled": false
   },
   "outputs": [
    {
     "name": "stderr",
     "output_type": "stream",
     "text": [
      "C:\\Users\\User\\Anaconda3\\lib\\site-packages\\sklearn\\ensemble\\forest.py:246: FutureWarning: The default value of n_estimators will change from 10 in version 0.20 to 100 in 0.22.\n",
      "  \"10 in version 0.20 to 100 in 0.22.\", FutureWarning)\n",
      "C:\\Users\\User\\Anaconda3\\lib\\site-packages\\sklearn\\ensemble\\forest.py:246: FutureWarning: The default value of n_estimators will change from 10 in version 0.20 to 100 in 0.22.\n",
      "  \"10 in version 0.20 to 100 in 0.22.\", FutureWarning)\n"
     ]
    },
    {
     "name": "stdout",
     "output_type": "stream",
     "text": [
      "\n",
      "\n"
     ]
    }
   ],
   "source": [
    "from sklearn.ensemble import RandomForestRegressor\n",
    "\n",
    "regressor_rf = RandomForestRegressor(n_jobs=-1)\n",
    "\n",
    "# #instantiate the object for the Random Forest Regressor with tuned hyper parameters for Feature Selection Group\n",
    "# regressor_rf1 = RandomForestRegressor(n_estimators = 26,\n",
    "#                                      max_depth = 22,\n",
    "#                                      min_samples_split = 9,\n",
    "#                                      n_jobs=-1)\n",
    "\n",
    "#instantiate the object for the Random Forest Regressor for Feature Extraction Group\n",
    "regressor_rf_PCA = RandomForestRegressor(n_jobs=-1)\n",
    "\n",
    "regressor_rf.fit(X_train, y_train)\n",
    "regressor_rf_PCA.fit(X_train_pca, y_train_pca)\n",
    "\n",
    "\n",
    "print(\"\\n\")\n"
   ]
  },
  {
   "cell_type": "code",
   "execution_count": 91,
   "metadata": {
    "scrolled": false
   },
   "outputs": [
    {
     "name": "stdout",
     "output_type": "stream",
     "text": [
      "\n",
      "\n"
     ]
    }
   ],
   "source": [
    "y_pred_rf = regressor_rf.predict(X_test)\n",
    "y_pred_rf_PCA = regressor_rf_PCA.predict(X_test_pca)\n",
    "\n",
    "print(\"\\n\")\n"
   ]
  },
  {
   "cell_type": "code",
   "execution_count": 98,
   "metadata": {},
   "outputs": [
    {
     "name": "stdout",
     "output_type": "stream",
     "text": [
      "RMSE score for the RF regressor raw is : 262.0613505201993\n",
      "RMSLE score for the RF regressor raw is : 0.49606798141997505\n",
      "Variance score for the RF regressor raw is : 0.45\n",
      "\n",
      "\n",
      "RMSE score for the RF regressor is : 186.36488239183288\n",
      "RMSLE score for the RF regressor is : 0.34667232370857304\n",
      "Variance score for the RF regressor is : 0.72\n"
     ]
    }
   ],
   "source": [
    "#Evaluate the model with default RF\n",
    "print('RMSE score for the RF regressor raw is : {}'.format(np.sqrt(metrics.mean_squared_error(y_test,y_pred_rf))))\n",
    "print('RMSLE score for the RF regressor raw is : {}'.format(np.sqrt(metrics.mean_squared_log_error(y_test,y_pred_rf))))\n",
    "print('Variance score for the RF regressor raw is : %.2f' % regressor_rf.score(X_test, y_test))\n",
    "\n",
    "print(\"\\n\")\n",
    "\n",
    "#Evaluate the model with Random Forest PCA\n",
    "print('RMSE score for the RF regressor is : {}'.format(np.sqrt(metrics.mean_squared_error(y_test_pca, y_pred_rf_PCA))))\n",
    "print('RMSLE score for the RF regressor is : {}'.format(np.sqrt(metrics.mean_squared_log_error(y_test_pca, y_pred_rf_PCA))))\n",
    "print('Variance score for the RF regressor is : %.2f' % regressor_rf_PCA.score(X_test_pca, y_test_pca))"
   ]
  },
  {
   "cell_type": "markdown",
   "metadata": {},
   "source": [
    "*****************\n",
    "<b> Let's try working with Boosters as well </b>\n",
    "<br>\n",
    "*****************"
   ]
  },
  {
   "cell_type": "code",
   "execution_count": 103,
   "metadata": {},
   "outputs": [],
   "source": [
    "# XGBoost Regressor\n",
    "# We used GridSearch to tune the hyperparameters of XGBoost regressor to get the best possible test score.\n",
    "# We will compare results from the default regressor and the tuned regressor.\n",
    "from xgboost import XGBRegressor"
   ]
  },
  {
   "cell_type": "code",
   "execution_count": 104,
   "metadata": {},
   "outputs": [],
   "source": [
    "regressor_xgb = XGBRegressor(n_jobs=-1)\n",
    "regressor_xgb_PCA = XGBRegressor(n_estimators=300,\n",
    "                            learning_rate=0.08,\n",
    "                            gamma=0,\n",
    "                            subsample=0.75,\n",
    "                            colsample_bytree=1,\n",
    "                            max_depth=7,\n",
    "                            min_child_weight=4,\n",
    "                            silent=1,\n",
    "                           n_jobs=-1)\n"
   ]
  },
  {
   "cell_type": "code",
   "execution_count": 105,
   "metadata": {},
   "outputs": [
    {
     "name": "stderr",
     "output_type": "stream",
     "text": [
      "C:\\Users\\User\\Anaconda3\\lib\\site-packages\\xgboost\\core.py:587: FutureWarning: Series.base is deprecated and will be removed in a future version\n",
      "  if getattr(data, 'base', None) is not None and \\\n"
     ]
    },
    {
     "name": "stdout",
     "output_type": "stream",
     "text": [
      "[03:27:56] WARNING: C:/Jenkins/workspace/xgboost-win64_release_0.90/src/objective/regression_obj.cu:152: reg:linear is now deprecated in favor of reg:squarederror.\n",
      "[03:27:57] WARNING: C:\\Jenkins\\workspace\\xgboost-win64_release_0.90\\src\\learner.cc:686: Tree method is automatically selected to be 'approx' for faster speed. To use old behavior (exact greedy algorithm on single machine), set tree_method to 'exact'.\n",
      "\n",
      "\n"
     ]
    }
   ],
   "source": [
    "regressor_xgb.fit(X_train,y_train)\n",
    "regressor_xgb_PCA.fit(X_train_pca,y_train_pca)\n",
    "print(\"\\n\")\n"
   ]
  },
  {
   "cell_type": "code",
   "execution_count": 106,
   "metadata": {},
   "outputs": [
    {
     "name": "stdout",
     "output_type": "stream",
     "text": [
      "\n",
      "\n"
     ]
    }
   ],
   "source": [
    "y_pred_xgb = regressor_xgb.predict(X_test)\n",
    "y_pred_xgb_pca = regressor_xgb_PCA.predict(X_test_pca)\n",
    "print(\"\\n\")\n"
   ]
  },
  {
   "cell_type": "code",
   "execution_count": 108,
   "metadata": {},
   "outputs": [
    {
     "name": "stdout",
     "output_type": "stream",
     "text": [
      "RMSE score for the XGBoost regressor raw is : 215.6374307002365\n",
      "Variance score for the XGBoost regressor raw is : 0.63\n",
      "\n",
      "\n",
      "RMSE score for the XGBoost regressor2 is : 183.76446075829568\n",
      "Variance score for the XGBoost regressor2 is : 0.73\n"
     ]
    }
   ],
   "source": [
    "#Evaluate the model with default params for raw data\n",
    "print('RMSE score for the XGBoost regressor raw is : {}'.format(np.sqrt(metrics.mean_squared_error(y_test,y_pred_xgb))))\n",
    "print('Variance score for the XGBoost regressor raw is : %.2f' % regressor_xgb.score(X_test, y_test))\n",
    "print(\"\\n\")\n",
    "\n",
    "#Evaluate the model with PCA params  for Feature Extraction Group\n",
    "print('RMSE score for the XGBoost regressor2 is : {}'.format(np.sqrt(metrics.mean_squared_error(y_test_pca, y_pred_xgb_pca))))\n",
    "print('Variance score for the XGBoost regressor2 is : %.2f' % regressor_xgb_PCA.score(X_test_pca, y_test_pca))\n"
   ]
  },
  {
   "cell_type": "code",
   "execution_count": null,
   "metadata": {},
   "outputs": [],
   "source": [
    "# We can also do CV if we have the capacity to do so\n",
    "# Next step to do the same for the trip pridiction\n"
   ]
  }
 ],
 "metadata": {
  "kernelspec": {
   "display_name": "Python 3",
   "language": "python",
   "name": "python3"
  },
  "language_info": {
   "codemirror_mode": {
    "name": "ipython",
    "version": 3
   },
   "file_extension": ".py",
   "mimetype": "text/x-python",
   "name": "python",
   "nbconvert_exporter": "python",
   "pygments_lexer": "ipython3",
   "version": "3.7.1"
  }
 },
 "nbformat": 4,
 "nbformat_minor": 2
}
