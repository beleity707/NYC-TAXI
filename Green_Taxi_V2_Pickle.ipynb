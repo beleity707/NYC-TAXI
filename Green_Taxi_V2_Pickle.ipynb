{
 "cells": [
  {
   "cell_type": "code",
   "execution_count": 9,
   "metadata": {},
   "outputs": [],
   "source": [
    "import os\n",
    "import numpy as np\n",
    "import pandas as pd\n",
    "from sklearn import metrics\n",
    "from sklearn.model_selection import train_test_split\n",
    "from sklearn.linear_model import LinearRegression\n",
    "\n",
    "\n",
    "pd.options.display.max_columns = None\n",
    "pd.options.display.width = 0\n",
    "pd.set_option('display.max_rows', 500)\n"
   ]
  },
  {
   "cell_type": "code",
   "execution_count": 2,
   "metadata": {},
   "outputs": [],
   "source": [
    "#pwd\n",
    "New_Green_Taxi = pd.read_csv('Green_Taxi_B7.csv')"
   ]
  },
  {
   "cell_type": "code",
   "execution_count": 3,
   "metadata": {},
   "outputs": [],
   "source": [
    "New_Green_Taxi = New_Green_Taxi[New_Green_Taxi['Pickup_longitude'] != New_Green_Taxi['Dropoff_longitude']]\n",
    "New_Green_Taxi = New_Green_Taxi[New_Green_Taxi['Pickup_latitude'] != New_Green_Taxi['Dropoff_latitude']]\n"
   ]
  },
  {
   "cell_type": "code",
   "execution_count": 6,
   "metadata": {},
   "outputs": [],
   "source": [
    "feature_names = ['Pickup_longitude','Pickup_latitude','Dropoff_longitude','Dropoff_latitude','Trip_distance','log_Trip_distance','month','week','day','hour']\n",
    "X1 = New_Green_Taxi[feature_names]\n",
    "y1 = New_Green_Taxi['Trip_Duration']\n"
   ]
  },
  {
   "cell_type": "code",
   "execution_count": 10,
   "metadata": {
    "scrolled": false
   },
   "outputs": [
    {
     "name": "stdout",
     "output_type": "stream",
     "text": [
      "Mean Absolute Error: 2.277389133709937\n",
      "Mean Squared Error: 9.665458273121116\n",
      "RMSE score for the Multiple LR PCA is : 3.1089320148760273\n",
      "\n",
      "\n"
     ]
    }
   ],
   "source": [
    "X1_train, X1_test, y1_train, y1_test = train_test_split(X1,y1, random_state=4, test_size=0.2)\n",
    "\n",
    "regressor1 = LinearRegression() \n",
    "regressor1.fit(X1_train,y1_train)\n",
    "y1_pred = regressor1.predict(X1_test)\n",
    "\n",
    "#Evaluate the regressor on the Feature extraction group\n",
    "print('Mean Absolute Error:', metrics.mean_absolute_error(y1_test,y1_pred))\n",
    "print('Mean Squared Error:', metrics.mean_squared_error(y1_test,y1_pred))\n",
    "print('RMSE score for the Multiple LR PCA is : {}'.format(np.sqrt(metrics.mean_squared_error(y1_test,y1_pred))))\n",
    "print(\"\\n\")"
   ]
  },
  {
   "cell_type": "markdown",
   "metadata": {},
   "source": [
    " "
   ]
  },
  {
   "cell_type": "markdown",
   "metadata": {},
   "source": [
    " Fare "
   ]
  },
  {
   "cell_type": "code",
   "execution_count": 11,
   "metadata": {},
   "outputs": [],
   "source": [
    "feature_names = ['Pickup_longitude','Pickup_latitude','Dropoff_longitude','Dropoff_latitude','Trip_distance','log_Trip_distance','month','week','day','hour']\n",
    "X2 = New_Green_Taxi[feature_names]\n",
    "y2 = New_Green_Taxi['Final_Fare_amount']"
   ]
  },
  {
   "cell_type": "code",
   "execution_count": 12,
   "metadata": {},
   "outputs": [
    {
     "name": "stdout",
     "output_type": "stream",
     "text": [
      "Mean Absolute Error: 1.2094226859066735\n",
      "Mean Squared Error: 2.615547202959582\n",
      "RMSE score for the Multiple LR PCA is : 1.6172653471089962\n",
      "\n",
      "\n"
     ]
    }
   ],
   "source": [
    "X2_train, X2_test, y2_train, y2_test = train_test_split(X2,y2, random_state=4, test_size=0.2)\n",
    "\n",
    "regressor2 = LinearRegression() \n",
    "regressor2.fit(X2_train,y2_train)\n",
    "y2_pred = regressor1.predict(X2_test)\n",
    "\n",
    "#Evaluate the regressor on the Feature extraction group\n",
    "print('Mean Absolute Error:', metrics.mean_absolute_error(y2_test,y2_pred))\n",
    "print('Mean Squared Error:', metrics.mean_squared_error(y2_test,y2_pred))\n",
    "print('RMSE score for the Multiple LR PCA is : {}'.format(np.sqrt(metrics.mean_squared_error(y2_test,y2_pred))))\n",
    "print(\"\\n\")\n"
   ]
  },
  {
   "cell_type": "code",
   "execution_count": 13,
   "metadata": {},
   "outputs": [],
   "source": [
    "import pickle\n",
    "pickle.dump( regressor1, open( 'reg_1.pkl', \"wb\" ) )\n",
    "pickle.dump( regressor2,open( 'reg_2.pkl', \"wb\" ) )\n"
   ]
  },
  {
   "cell_type": "code",
   "execution_count": 14,
   "metadata": {},
   "outputs": [
    {
     "data": {
      "text/plain": [
       "array([14.42355299, 11.48599907,  8.87706884, ..., 11.56767495,\n",
       "       24.1668232 , 15.6419146 ])"
      ]
     },
     "execution_count": 14,
     "metadata": {},
     "output_type": "execute_result"
    }
   ],
   "source": []
  },
  {
   "cell_type": "code",
   "execution_count": 17,
   "metadata": {},
   "outputs": [
    {
     "data": {
      "text/plain": [
       "pandas.core.frame.DataFrame"
      ]
     },
     "execution_count": 17,
     "metadata": {},
     "output_type": "execute_result"
    }
   ],
   "source": [
    "type(X1_test[:1])"
   ]
  },
  {
   "cell_type": "code",
   "execution_count": null,
   "metadata": {},
   "outputs": [],
   "source": []
  }
 ],
 "metadata": {
  "kernelspec": {
   "display_name": "Python 3",
   "language": "python",
   "name": "python3"
  },
  "language_info": {
   "codemirror_mode": {
    "name": "ipython",
    "version": 3
   },
   "file_extension": ".py",
   "mimetype": "text/x-python",
   "name": "python",
   "nbconvert_exporter": "python",
   "pygments_lexer": "ipython3",
   "version": "3.7.1"
  }
 },
 "nbformat": 4,
 "nbformat_minor": 2
}
