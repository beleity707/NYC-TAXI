{
 "cells": [
  {
   "cell_type": "code",
   "execution_count": 1,
   "metadata": {},
   "outputs": [],
   "source": [
    "from pyspark.ml.regression import LinearRegression\n"
   ]
  },
  {
   "cell_type": "code",
   "execution_count": 4,
   "metadata": {},
   "outputs": [
    {
     "data": {
      "text/html": [
       "\n",
       "            <div>\n",
       "                <p><b>SparkSession - in-memory</b></p>\n",
       "                \n",
       "        <div>\n",
       "            <p><b>SparkContext</b></p>\n",
       "\n",
       "            <p><a href=\"http://0d41dcab903e:4040\">Spark UI</a></p>\n",
       "\n",
       "            <dl>\n",
       "              <dt>Version</dt>\n",
       "                <dd><code>v2.4.0</code></dd>\n",
       "              <dt>Master</dt>\n",
       "                <dd><code>local[2]</code></dd>\n",
       "              <dt>AppName</dt>\n",
       "                <dd><code>Lab 5</code></dd>\n",
       "            </dl>\n",
       "        </div>\n",
       "        \n",
       "            </div>\n",
       "        "
      ],
      "text/plain": [
       "<pyspark.sql.session.SparkSession at 0x7f475fdfd2e8>"
      ]
     },
     "execution_count": 4,
     "metadata": {},
     "output_type": "execute_result"
    }
   ],
   "source": [
    "from pyspark.sql import SparkSession\n",
    "spark = SparkSession.builder \\\n",
    "    .config('spark.master', 'local[4]') \\\n",
    "    .appName('Test') \\\n",
    "    .getOrCreate()\n",
    "\n",
    "sc = spark.sparkContext\n",
    "spark"
   ]
  },
  {
   "cell_type": "code",
   "execution_count": 11,
   "metadata": {},
   "outputs": [],
   "source": [
    "seed=1"
   ]
  },
  {
   "cell_type": "code",
   "execution_count": 7,
   "metadata": {},
   "outputs": [],
   "source": [
    "Green_Taxi_DF = spark.read.csv(\"Green_Taxi_B7.csv\",header=True,inferSchema=True)"
   ]
  },
  {
   "cell_type": "code",
   "execution_count": 9,
   "metadata": {
    "scrolled": true
   },
   "outputs": [
    {
     "data": {
      "text/html": [
       "<div>\n",
       "<style scoped>\n",
       "    .dataframe tbody tr th:only-of-type {\n",
       "        vertical-align: middle;\n",
       "    }\n",
       "\n",
       "    .dataframe tbody tr th {\n",
       "        vertical-align: top;\n",
       "    }\n",
       "\n",
       "    .dataframe thead th {\n",
       "        text-align: right;\n",
       "    }\n",
       "</style>\n",
       "<table border=\"1\" class=\"dataframe\">\n",
       "  <thead>\n",
       "    <tr style=\"text-align: right;\">\n",
       "      <th></th>\n",
       "      <th>Pickup_longitude</th>\n",
       "      <th>Pickup_latitude</th>\n",
       "      <th>Dropoff_longitude</th>\n",
       "      <th>Dropoff_latitude</th>\n",
       "      <th>month</th>\n",
       "      <th>week</th>\n",
       "      <th>day</th>\n",
       "      <th>hour</th>\n",
       "      <th>Trip_distance</th>\n",
       "      <th>Final_Fare_amount</th>\n",
       "      <th>Trip_Duration</th>\n",
       "      <th>speed</th>\n",
       "      <th>log_Trip_distance</th>\n",
       "      <th>log_Trip_Duration</th>\n",
       "    </tr>\n",
       "  </thead>\n",
       "  <tbody>\n",
       "    <tr>\n",
       "      <th>0</th>\n",
       "      <td>-75.231</td>\n",
       "      <td>39.928</td>\n",
       "      <td>-75.227</td>\n",
       "      <td>39.93</td>\n",
       "      <td>6.0</td>\n",
       "      <td>23.0</td>\n",
       "      <td>8.0</td>\n",
       "      <td>20.0</td>\n",
       "      <td>0.25</td>\n",
       "      <td>4.3</td>\n",
       "      <td>1.12</td>\n",
       "      <td>13.43</td>\n",
       "      <td>-1.39</td>\n",
       "      <td>0.11</td>\n",
       "    </tr>\n",
       "  </tbody>\n",
       "</table>\n",
       "</div>"
      ],
      "text/plain": [
       "   Pickup_longitude  Pickup_latitude  Dropoff_longitude  Dropoff_latitude  \\\n",
       "0           -75.231           39.928            -75.227             39.93   \n",
       "\n",
       "   month  week  day  hour  Trip_distance  Final_Fare_amount  Trip_Duration  \\\n",
       "0    6.0  23.0  8.0  20.0           0.25                4.3           1.12   \n",
       "\n",
       "   speed  log_Trip_distance  log_Trip_Duration  \n",
       "0  13.43              -1.39               0.11  "
      ]
     },
     "execution_count": 9,
     "metadata": {},
     "output_type": "execute_result"
    }
   ],
   "source": [
    "Green_Taxi_DF.limit(1).toPandas"
   ]
  },
  {
   "cell_type": "code",
   "execution_count": 17,
   "metadata": {},
   "outputs": [],
   "source": [
    "Green_Taxi_DF= Green_Taxi_DF.drop('speed')"
   ]
  },
  {
   "cell_type": "code",
   "execution_count": 18,
   "metadata": {},
   "outputs": [],
   "source": [
    "trainData,testData = Green_Taxi_DF.randomSplit([0.8,0.2],seed=seed)"
   ]
  },
  {
   "cell_type": "code",
   "execution_count": 19,
   "metadata": {},
   "outputs": [],
   "source": [
    "inputCols = trainData.columns"
   ]
  },
  {
   "cell_type": "code",
   "execution_count": 20,
   "metadata": {},
   "outputs": [
    {
     "data": {
      "text/plain": [
       "['Pickup_longitude',\n",
       " 'Pickup_latitude',\n",
       " 'Dropoff_longitude',\n",
       " 'Dropoff_latitude',\n",
       " 'month',\n",
       " 'week',\n",
       " 'day',\n",
       " 'hour',\n",
       " 'Trip_distance',\n",
       " 'Final_Fare_amount',\n",
       " 'Trip_Duration',\n",
       " 'log_Trip_distance',\n",
       " 'log_Trip_Duration']"
      ]
     },
     "execution_count": 20,
     "metadata": {},
     "output_type": "execute_result"
    }
   ],
   "source": [
    "inputCols"
   ]
  },
  {
   "cell_type": "code",
   "execution_count": 34,
   "metadata": {},
   "outputs": [],
   "source": [
    "inputCols = list( filter(lambda s: s != \"Trip_Duration\", inputCols) )\n",
    "inputCols = list( filter(lambda s: s != \"Final_Fare_amount\", inputCols) )\n",
    "\n"
   ]
  },
  {
   "cell_type": "code",
   "execution_count": 35,
   "metadata": {},
   "outputs": [],
   "source": [
    "############### Machine Learning\n",
    "from pyspark.ml.feature import VectorAssembler\n",
    "\n",
    "va = VectorAssembler()\\\n",
    "        .setInputCols(inputCols)\\\n",
    "        .setOutputCol(\"featureVector\")"
   ]
  },
  {
   "cell_type": "code",
   "execution_count": 36,
   "metadata": {},
   "outputs": [
    {
     "name": "stdout",
     "output_type": "stream",
     "text": [
      "+---------------------------------------------------------------------------------------+-------------+\n",
      "|featureVector                                                                          |Trip_Duration|\n",
      "+---------------------------------------------------------------------------------------+-------------+\n",
      "|[-75.23100000000001,39.928000000000004,-75.227,39.93,6.0,23.0,8.0,20.0,0.25,-1.39,0.11]|1.12         |\n",
      "|[-75.165,39.954,-75.165,39.954,2.0,7.0,15.0,12.0,0.2,-1.61,-0.36]                      |0.7          |\n",
      "+---------------------------------------------------------------------------------------+-------------+\n",
      "only showing top 2 rows\n",
      "\n"
     ]
    }
   ],
   "source": [
    "# Predict Fare\n",
    "TripTrainData = va.transform(trainData)\n",
    "TripTrainData.select(\"featureVector\", 'Trip_Duration').show(truncate=False, n=2)\n"
   ]
  },
  {
   "cell_type": "code",
   "execution_count": 37,
   "metadata": {},
   "outputs": [
    {
     "name": "stdout",
     "output_type": "stream",
     "text": [
      "+-----------------------------------------------------------------+-------------+\n",
      "|featureVector                                                    |Trip_Duration|\n",
      "+-----------------------------------------------------------------+-------------+\n",
      "|[-74.285,40.519,-74.293,40.521,4.0,15.0,16.0,7.0,0.52,-0.65,1.04]|2.83         |\n",
      "|[-74.23,40.77,-74.188,40.765,6.0,23.0,6.0,10.0,2.59,0.95,2.4]    |11.05        |\n",
      "+-----------------------------------------------------------------+-------------+\n",
      "only showing top 2 rows\n",
      "\n"
     ]
    }
   ],
   "source": [
    "TripTestData = va.transform(testData)\n",
    "TripTestData.select(\"featureVector\", 'Trip_Duration').show(truncate=False, n=2)"
   ]
  },
  {
   "cell_type": "code",
   "execution_count": 41,
   "metadata": {},
   "outputs": [],
   "source": [
    "from pyspark.ml.regression import LinearRegression\n",
    "lr = LinearRegression(featuresCol = 'featureVector', labelCol='Trip_Duration', maxIter=10, regParam=0.3, elasticNetParam=0.8)\n"
   ]
  },
  {
   "cell_type": "code",
   "execution_count": 42,
   "metadata": {},
   "outputs": [],
   "source": [
    "lr_model = lr.fit(TriprainData)\n"
   ]
  },
  {
   "cell_type": "code",
   "execution_count": 44,
   "metadata": {},
   "outputs": [
    {
     "name": "stdout",
     "output_type": "stream",
     "text": [
      "RMSE: 1.892686\n",
      "r2: 0.896467\n"
     ]
    }
   ],
   "source": [
    "trainingSummary = lr_model.summary\n",
    "print(\"RMSE: %f\" % trainingSummary.rootMeanSquaredError)\n",
    "print(\"r2: %f\" % trainingSummary.r2)"
   ]
  },
  {
   "cell_type": "code",
   "execution_count": 46,
   "metadata": {},
   "outputs": [],
   "source": [
    "lr_predictions = lr_model.transform(TripTestData)"
   ]
  },
  {
   "cell_type": "code",
   "execution_count": 47,
   "metadata": {},
   "outputs": [
    {
     "name": "stdout",
     "output_type": "stream",
     "text": [
      "+------------------+-------------+--------------------+\n",
      "|        prediction|Trip_Duration|       featureVector|\n",
      "+------------------+-------------+--------------------+\n",
      "|1.3848359266317418|         2.83|[-74.285,40.519,-...|\n",
      "|12.538868355726056|        11.05|[-74.23,40.77,-74...|\n",
      "| 4.380866570617193|         4.25|[-74.195,40.702,-...|\n",
      "|14.734066359839229|        11.07|[-74.185,40.564,-...|\n",
      "| 12.65856433426481|        10.47|[-74.179,40.607,-...|\n",
      "+------------------+-------------+--------------------+\n",
      "only showing top 5 rows\n",
      "\n"
     ]
    }
   ],
   "source": [
    "lr_predictions.select(\"prediction\",\"Trip_Duration\",\"featureVector\").show(5)"
   ]
  },
  {
   "cell_type": "code",
   "execution_count": 48,
   "metadata": {},
   "outputs": [
    {
     "name": "stdout",
     "output_type": "stream",
     "text": [
      "R Squared (R2) on test data = 0.896729\n"
     ]
    }
   ],
   "source": [
    "from pyspark.ml.evaluation import RegressionEvaluator\n",
    "lr_evaluator = RegressionEvaluator(predictionCol=\"prediction\", \\\n",
    "                 labelCol=\"Trip_Duration\",metricName=\"r2\")\n",
    "print(\"R Squared (R2) on test data = %g\" % lr_evaluator.evaluate(lr_predictions))"
   ]
  },
  {
   "cell_type": "markdown",
   "metadata": {},
   "source": [
    "<br><B>Now we will do the same for the Taxi Fare <br><br><br>"
   ]
  },
  {
   "cell_type": "code",
   "execution_count": 49,
   "metadata": {},
   "outputs": [
    {
     "name": "stdout",
     "output_type": "stream",
     "text": [
      "+---------------------------------------------------------------------------------------+-----------------+\n",
      "|featureVector                                                                          |Final_Fare_amount|\n",
      "+---------------------------------------------------------------------------------------+-----------------+\n",
      "|[-75.23100000000001,39.928000000000004,-75.227,39.93,6.0,23.0,8.0,20.0,0.25,-1.39,0.11]|4.3              |\n",
      "|[-75.165,39.954,-75.165,39.954,2.0,7.0,15.0,12.0,0.2,-1.61,-0.36]                      |3.3              |\n",
      "+---------------------------------------------------------------------------------------+-----------------+\n",
      "only showing top 2 rows\n",
      "\n"
     ]
    }
   ],
   "source": [
    "# Predict Fare\n",
    "FareTrainData = va.transform(trainData)\n",
    "FareTrainData.select(\"featureVector\", 'Final_Fare_amount').show(truncate=False, n=2)"
   ]
  },
  {
   "cell_type": "code",
   "execution_count": 50,
   "metadata": {},
   "outputs": [
    {
     "name": "stdout",
     "output_type": "stream",
     "text": [
      "+-----------------------------------------------------------------+-----------------+\n",
      "|featureVector                                                    |Final_Fare_amount|\n",
      "+-----------------------------------------------------------------+-----------------+\n",
      "|[-74.285,40.519,-74.293,40.521,4.0,15.0,16.0,7.0,0.52,-0.65,1.04]|4.8              |\n",
      "|[-74.23,40.77,-74.188,40.765,6.0,23.0,6.0,10.0,2.59,0.95,2.4]    |11.8             |\n",
      "+-----------------------------------------------------------------+-----------------+\n",
      "only showing top 2 rows\n",
      "\n"
     ]
    }
   ],
   "source": [
    "FareTestData = va.transform(testData)\n",
    "FareTestData.select(\"featureVector\", 'Final_Fare_amount').show(truncate=False, n=2)"
   ]
  },
  {
   "cell_type": "code",
   "execution_count": 51,
   "metadata": {},
   "outputs": [],
   "source": [
    "from pyspark.ml.regression import LinearRegression\n",
    "Fare_lr = LinearRegression(featuresCol = 'featureVector', labelCol='Final_Fare_amount', maxIter=10, regParam=0.3, elasticNetParam=0.8)\n"
   ]
  },
  {
   "cell_type": "code",
   "execution_count": 54,
   "metadata": {},
   "outputs": [],
   "source": [
    "Fare_lr_model = Fare_lr.fit(FareTrainData)"
   ]
  },
  {
   "cell_type": "code",
   "execution_count": 56,
   "metadata": {},
   "outputs": [
    {
     "name": "stdout",
     "output_type": "stream",
     "text": [
      "RMSE: 0.928586\n",
      "r2: 0.955896\n"
     ]
    }
   ],
   "source": [
    "Fare_trainingSummary = Fare_lr_model.summary\n",
    "print(\"RMSE: %f\" % Fare_trainingSummary.rootMeanSquaredError)\n",
    "print(\"r2: %f\" % Fare_trainingSummary.r2)"
   ]
  },
  {
   "cell_type": "code",
   "execution_count": 57,
   "metadata": {},
   "outputs": [],
   "source": [
    "Fare_lr_predictions = Fare_lr_model.transform(FareTestData)"
   ]
  },
  {
   "cell_type": "code",
   "execution_count": 58,
   "metadata": {},
   "outputs": [
    {
     "name": "stdout",
     "output_type": "stream",
     "text": [
      "+------------------+-----------------+--------------------+\n",
      "|        prediction|Final_Fare_amount|       featureVector|\n",
      "+------------------+-----------------+--------------------+\n",
      "| 4.995013706744404|              4.8|[-74.285,40.519,-...|\n",
      "|12.395950299341617|             11.8|[-74.23,40.77,-74...|\n",
      "| 6.480426398875684|5.799999999999998|[-74.195,40.702,-...|\n",
      "|16.861726055416284|             16.3|[-74.185,40.564,-...|\n",
      "|13.201589959648663|             12.3|[-74.179,40.607,-...|\n",
      "+------------------+-----------------+--------------------+\n",
      "only showing top 5 rows\n",
      "\n"
     ]
    }
   ],
   "source": [
    "Fare_lr_predictions.select(\"prediction\",\"Final_Fare_amount\",\"featureVector\").show(5)\n"
   ]
  },
  {
   "cell_type": "code",
   "execution_count": 60,
   "metadata": {},
   "outputs": [
    {
     "name": "stdout",
     "output_type": "stream",
     "text": [
      "R Squared (R2) on test data = 0.780654\n"
     ]
    }
   ],
   "source": [
    "from pyspark.ml.evaluation import RegressionEvaluator\n",
    "Fare_lr_evaluator = RegressionEvaluator(predictionCol=\"prediction\", \\\n",
    "                 labelCol=\"Final_Fare_amount\",metricName=\"r2\")\n",
    "print(\"R Squared (R2) on test data = %g\" % lr_evaluator.evaluate(Fare_lr_predictions))\n"
   ]
  },
  {
   "cell_type": "code",
   "execution_count": null,
   "metadata": {},
   "outputs": [],
   "source": []
  }
 ],
 "metadata": {
  "kernelspec": {
   "display_name": "Python 3",
   "language": "python",
   "name": "python3"
  },
  "language_info": {
   "codemirror_mode": {
    "name": "ipython",
    "version": 3
   },
   "file_extension": ".py",
   "mimetype": "text/x-python",
   "name": "python",
   "nbconvert_exporter": "python",
   "pygments_lexer": "ipython3",
   "version": "3.6.8"
  }
 },
 "nbformat": 4,
 "nbformat_minor": 2
}
