{
 "cells": [
  {
   "cell_type": "code",
   "execution_count": 1,
   "metadata": {},
   "outputs": [],
   "source": [
    "import os\n",
    "import numpy as np\n",
    "import pandas as pd\n",
    "import folium\n",
    "#pd.options.display.width = 0\n",
    "pd.set_option('display.max_rows', 500)\n",
    "pd.set_option('display.max_columns', 500)\n",
    "pd.set_option('display.width', 1000)"
   ]
  },
  {
   "cell_type": "code",
   "execution_count": 2,
   "metadata": {},
   "outputs": [],
   "source": [
    "import folium\n",
    "import pandas as pd\n",
    "import json\n",
    "from folium import plugins\n"
   ]
  },
  {
   "cell_type": "code",
   "execution_count": 4,
   "metadata": {},
   "outputs": [],
   "source": [
    "with open('E:/Big Data Diploma/Project/Project/New folder/CommunityDistricts.geojson') as f:\n",
    "    NyArea = json.load(f)\n",
    "    "
   ]
  },
  {
   "cell_type": "code",
   "execution_count": 5,
   "metadata": {},
   "outputs": [],
   "source": [
    "c = \"E:/Big Data Diploma/Project/Project/New folder/School/c.csv\"\n",
    "c = pd.read_csv(c)"
   ]
  },
  {
   "cell_type": "code",
   "execution_count": 8,
   "metadata": {},
   "outputs": [
    {
     "data": {
      "text/html": [
       "<div>\n",
       "<style scoped>\n",
       "    .dataframe tbody tr th:only-of-type {\n",
       "        vertical-align: middle;\n",
       "    }\n",
       "\n",
       "    .dataframe tbody tr th {\n",
       "        vertical-align: top;\n",
       "    }\n",
       "\n",
       "    .dataframe thead th {\n",
       "        text-align: right;\n",
       "    }\n",
       "</style>\n",
       "<table border=\"1\" class=\"dataframe\">\n",
       "  <thead>\n",
       "    <tr style=\"text-align: right;\">\n",
       "      <th></th>\n",
       "      <th>boro_cd</th>\n",
       "      <th>count</th>\n",
       "    </tr>\n",
       "  </thead>\n",
       "  <tbody>\n",
       "    <tr>\n",
       "      <th>46</th>\n",
       "      <td>403</td>\n",
       "      <td>14</td>\n",
       "    </tr>\n",
       "    <tr>\n",
       "      <th>49</th>\n",
       "      <td>406</td>\n",
       "      <td>14</td>\n",
       "    </tr>\n",
       "    <tr>\n",
       "      <th>11</th>\n",
       "      <td>112</td>\n",
       "      <td>13</td>\n",
       "    </tr>\n",
       "    <tr>\n",
       "      <th>10</th>\n",
       "      <td>111</td>\n",
       "      <td>13</td>\n",
       "    </tr>\n",
       "    <tr>\n",
       "      <th>6</th>\n",
       "      <td>107</td>\n",
       "      <td>12</td>\n",
       "    </tr>\n",
       "  </tbody>\n",
       "</table>\n",
       "</div>"
      ],
      "text/plain": [
       "   boro_cd  count\n",
       "46     403     14\n",
       "49     406     14\n",
       "11     112     13\n",
       "10     111     13\n",
       "6      107     12"
      ]
     },
     "execution_count": 8,
     "metadata": {},
     "output_type": "execute_result"
    }
   ],
   "source": [
    "#group the starbucks dataframe by zip code and count the number of stores in each zip code\n",
    "\n",
    "numSchoolSeries = c.groupby(['boro_cd']).count().schooldbn\n",
    "\n",
    "#initialize an empty dataframe to store this new data\n",
    "\n",
    "numSchoolByDistrict = pd.DataFrame()\n",
    "\n",
    "#populate the new dataframe with a 'District' column and a 'Count' column\n",
    "\n",
    "numSchoolByDistrict['boro_cd'] = [str(i) for i in numSchoolSeries.index]\n",
    "\n",
    "\n",
    "numSchoolByDistrict['count'] = numSchoolSeries.values\n",
    "\n",
    "numSchoolByDistrict.sort_values(by='count',ascending=False).head()\n"
   ]
  },
  {
   "cell_type": "code",
   "execution_count": 9,
   "metadata": {
    "scrolled": true
   },
   "outputs": [
    {
     "name": "stderr",
     "output_type": "stream",
     "text": [
      "C:\\Users\\User\\Anaconda3\\lib\\site-packages\\folium\\folium.py:415: FutureWarning: The choropleth  method has been deprecated. Instead use the new Choropleth class, which has the same arguments. See the example notebook 'GeoJSON_and_choropleth' for how to do this.\n",
      "  FutureWarning\n"
     ]
    }
   ],
   "source": [
    "geopath = 'E:/Big Data Diploma/Project/Project/New folder/CommunityDistricts.geojson'\n",
    "\n",
    "#creating choropleth map for with a starting point in the below coordinates\n",
    "District_Map = folium.Map(location=[40.693943, -73.985880], zoom_start=12)\n",
    "\n",
    "#creating choropleth map for with the below parameters and values\n",
    "District_Map.choropleth(geo_data = geopath,                    # Define the geojson map that will be used \n",
    "                data = numSchoolByDistrict,            # Assign the dataFrame that will be used \n",
    "                columns = ['boro_cd', 'count'],        # Define the columns in the DF that will be used\n",
    "                key_on = 'feature.properties.boro_cd', # Define the column in the geojson map that will be joined with the DataFrame\n",
    "                fill_color = 'YlOrRd',                 # Assign the color that will be used in the Map\n",
    "                fill_opacity = 0.7,                    # The opacity of the color\n",
    "                line_opacity = 0.2,\n",
    "                threshold_scale=[0, 3, 6, 9, 12,15],   # Assign the bar ranges VIP it should be over the max range of the dataFrame values which is 14 in our case\n",
    "                legend_name = 'Schools By District')   # A label under the bar"
   ]
  },
  {
   "cell_type": "code",
   "execution_count": 10,
   "metadata": {},
   "outputs": [],
   "source": [
    "District_Map.save('E:/Big Data Diploma/Project/Project/District_Map.html')"
   ]
  },
  {
   "cell_type": "code",
   "execution_count": null,
   "metadata": {},
   "outputs": [],
   "source": []
  }
 ],
 "metadata": {
  "kernelspec": {
   "display_name": "Python 3",
   "language": "python",
   "name": "python3"
  },
  "language_info": {
   "codemirror_mode": {
    "name": "ipython",
    "version": 3
   },
   "file_extension": ".py",
   "mimetype": "text/x-python",
   "name": "python",
   "nbconvert_exporter": "python",
   "pygments_lexer": "ipython3",
   "version": "3.7.1"
  }
 },
 "nbformat": 4,
 "nbformat_minor": 2
}
